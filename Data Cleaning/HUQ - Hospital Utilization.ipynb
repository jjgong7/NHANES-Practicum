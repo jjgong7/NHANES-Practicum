{
 "cells": [
  {
   "cell_type": "code",
   "execution_count": 1,
   "metadata": {},
   "outputs": [],
   "source": [
    "#Import libraries\n",
    "import pandas as pd\n",
    "import numpy as np\n",
    "import matplotlib.pyplot as plt\n",
    "import glob\n",
    "import re\n",
    "from collections import defaultdict"
   ]
  },
  {
   "cell_type": "code",
   "execution_count": 2,
   "metadata": {},
   "outputs": [],
   "source": [
    "#Use one ./ if running from run_notebooks.py\n",
    "#Use two ../if running directly from Jupyter Notebooks\n",
    "#file_beg = '../NHANES-Downloader/data/csv_data/'\n",
    "\n",
    "file_beg = './NHANES-Downloader/data/csv_data/'"
   ]
  },
  {
   "cell_type": "code",
   "execution_count": 3,
   "metadata": {},
   "outputs": [],
   "source": [
    "#Import all the files\n",
    "files1 = glob.glob(file_beg+'1999-2000/*/*.csv')\n",
    "files2 = glob.glob(file_beg+'2001-2002/*/*.csv')\n",
    "files3 = glob.glob(file_beg+'2003-2004/*/*.csv')\n",
    "files4 = glob.glob(file_beg+'2005-2006/*/*.csv')\n",
    "files5 = glob.glob(file_beg+'2007-2008/*/*.csv')\n",
    "files6 = glob.glob(file_beg+'2009-2010/*/*.csv')\n",
    "files7 = glob.glob(file_beg+'2011-2012/*/*.csv')\n",
    "files8 = glob.glob(file_beg+'2013-2014/*/*.csv')\n",
    "files9 = glob.glob(file_beg+'2015-2016/*/*.csv')"
   ]
  },
  {
   "cell_type": "code",
   "execution_count": 4,
   "metadata": {},
   "outputs": [],
   "source": [
    "#Add files into a list\n",
    "file_list = [files1, files2, files3, files4, files5, \n",
    "          files6, files7, files8, files9]"
   ]
  },
  {
   "cell_type": "code",
   "execution_count": 5,
   "metadata": {},
   "outputs": [],
   "source": [
    "#Add files into a list of sorted and dictionaries\n",
    "file_list_dict = []\n",
    "for x in file_list:\n",
    "    x.sort()\n",
    "    file_list_dict.append(dict(enumerate(x)))"
   ]
  },
  {
   "cell_type": "code",
   "execution_count": 6,
   "metadata": {},
   "outputs": [],
   "source": [
    "#Index of all the files in dictionary from 1999 - 2016\n",
    "huq_indx = [91, 105, 118, 108, 107, 115, 107, 128, 78]"
   ]
  },
  {
   "cell_type": "code",
   "execution_count": 7,
   "metadata": {},
   "outputs": [],
   "source": [
    "dfs = defaultdict(int)\n",
    "for i in range(0,len(huq_indx)):\n",
    "    dfs[i] = pd.read_csv(file_list_dict[i][huq_indx[i]])"
   ]
  },
  {
   "cell_type": "code",
   "execution_count": 8,
   "metadata": {},
   "outputs": [],
   "source": [
    "#Default column names\n",
    "col_names = [\"SEQN\", \"HUQ010\", \"HUQ020\", \"HUQ030\", \"HUQ040\", \"HUQ050\", \"HUQ070\", \"HUQ090\"]"
   ]
  },
  {
   "cell_type": "code",
   "execution_count": 9,
   "metadata": {},
   "outputs": [],
   "source": [
    "#Column names for 2013-2016\n",
    "col_names1 = [\"SEQN\", \"HUQ010\", \"HUQ020\", \"HUQ030\", \"HUQ041\", \"HUQ051\", \"HUQ071\", \"HUQ090\"]"
   ]
  },
  {
   "cell_type": "markdown",
   "metadata": {},
   "source": [
    "## Round HUQ050 & HUQ051"
   ]
  },
  {
   "cell_type": "code",
   "execution_count": 10,
   "metadata": {},
   "outputs": [],
   "source": [
    "#1999-2000\n",
    "dfs[0][['HUQ050']] = dfs[0][['HUQ050']].round(0)\n",
    "\n",
    "#2001-2002\n",
    "dfs[1][['HUQ050']] = dfs[1][['HUQ050']].round(0)\n",
    "\n",
    "#2003-2004\n",
    "dfs[2][['HUQ050']] = dfs[2][['HUQ050']].round(0)\n",
    "\n",
    "#2005-2006\n",
    "dfs[3][['HUQ050']] = dfs[3][['HUQ050']].round(0)\n",
    "\n",
    "#2007-2008\n",
    "dfs[4][['HUQ050']] = dfs[4][['HUQ050']].round(0)\n",
    "\n",
    "#2009-2010\n",
    "dfs[5][['HUQ050']] = dfs[5][['HUQ050']].round(0)\n",
    "\n",
    "#2011-2012\n",
    "dfs[6][['HUQ050']] = dfs[6][['HUQ050']].round(0)\n",
    "\n",
    "#Round the column HUQ051\n",
    "#2013-2014\n",
    "dfs[7][['HUQ051']] = dfs[7][['HUQ051']].round(0)\n",
    "\n",
    "#2015-2016\n",
    "dfs[8][['HUQ051']] = dfs[8][['HUQ051']].round(0)"
   ]
  },
  {
   "cell_type": "markdown",
   "metadata": {},
   "source": [
    "## Rename HUD070, HUQ071"
   ]
  },
  {
   "cell_type": "code",
   "execution_count": 11,
   "metadata": {},
   "outputs": [],
   "source": [
    "#Rename HUD070 to HUQ070\n",
    "#2001-2002\n",
    "dfs[1].rename(columns={'HUD070':'HUQ070'}, inplace=True)\n",
    "\n",
    "\n",
    "#Rename HUQ071 to HUQ070\n",
    "#2003-2004\n",
    "dfs[2].rename(columns={'HUQ071':'HUQ070'}, inplace=True)\n",
    "\n",
    "#2005-2006\n",
    "dfs[3].rename(columns={'HUQ071':'HUQ070'}, inplace=True)\n",
    "\n",
    "#2007-2008\n",
    "dfs[4].rename(columns={'HUQ071':'HUQ070'}, inplace=True)\n",
    "\n",
    "#2009-2010\n",
    "dfs[5].rename(columns={'HUQ071':'HUQ070'}, inplace=True)\n",
    "\n",
    "#2011-2012\n",
    "dfs[6].rename(columns={'HUQ071':'HUQ070'}, inplace=True)"
   ]
  },
  {
   "cell_type": "markdown",
   "metadata": {},
   "source": [
    "## Make copy of all the dataframes"
   ]
  },
  {
   "cell_type": "code",
   "execution_count": 12,
   "metadata": {},
   "outputs": [],
   "source": [
    "df0 = dfs[0][col_names].copy()\n",
    "df1 = dfs[1][col_names].copy()\n",
    "df2 = dfs[2][col_names].copy()\n",
    "df3 = dfs[3][col_names].copy()\n",
    "df4 = dfs[4][col_names].copy()\n",
    "df5 = dfs[5][col_names].copy()\n",
    "df6 = dfs[6][col_names].copy()\n",
    "df7 = dfs[7][col_names1].copy()\n",
    "df8 = dfs[8][col_names1].copy()"
   ]
  },
  {
   "cell_type": "markdown",
   "metadata": {},
   "source": [
    "## Functions: Recategorize values, Count Values, Drop Rows"
   ]
  },
  {
   "cell_type": "code",
   "execution_count": 13,
   "metadata": {},
   "outputs": [],
   "source": [
    "#Recategorize function\n",
    "def recategorize(df, name, replace_dict):\n",
    "    df[name].replace(\n",
    "    to_replace=replace_dict,\n",
    "    inplace=True\n",
    ")\n",
    "    \n",
    "#Count values function\n",
    "def count_vals(df, name):\n",
    "    df_count = df.groupby(name)['SEQN'].nunique()\n",
    "    print(df_count,\"\\n\\n\",\"NaN: \", df[name].isnull().sum())\n",
    "    \n",
    "#Drop rows that include certain values\n",
    "def drop_rows(df, name, val_list):\n",
    "    df.drop(df[df[name].isin(val_list)].index, inplace=True)"
   ]
  },
  {
   "cell_type": "markdown",
   "metadata": {},
   "source": [
    "## Recategorize 2013 - 2016 Info"
   ]
  },
  {
   "cell_type": "code",
   "execution_count": 14,
   "metadata": {},
   "outputs": [],
   "source": [
    "#Recategorize HUQ041\n",
    "#Refused 77 to 7. Recategorize Don't Know 99 to 9.\n",
    "recategorize(df7, 'HUQ041', {77:7, 99:9}) #2013-2014\n",
    "recategorize(df8, 'HUQ041', {77:7, 99:9}) #2015-2016\n",
    "\n",
    "# #Drop indexes in HUQ041 with 6 to match HUQ040\n",
    "# drop_rows(df7, 'HUQ041', [6])\n",
    "# drop_rows(df8, 'HUQ041', [6])\n",
    "\n",
    "#Recategorize HUQ51 additional categories to HUQ050\n",
    "recategorize(df7, 'HUQ051', {4:3, 5:3, 6:4, 7:5, 8:5}) #2013-2014\n",
    "recategorize(df8, 'HUQ051', {4:3, 5:3, 6:4, 7:5, 8:5}) #2015-2016"
   ]
  },
  {
   "cell_type": "markdown",
   "metadata": {},
   "source": [
    "## Rename 2013 - 2016 columns"
   ]
  },
  {
   "cell_type": "code",
   "execution_count": 15,
   "metadata": {},
   "outputs": [],
   "source": [
    "df7.columns = col_names #2013-2014\n",
    "df8.columns = col_names #2015-2016"
   ]
  },
  {
   "cell_type": "markdown",
   "metadata": {},
   "source": [
    "## Append years 1999 - 2016"
   ]
  },
  {
   "cell_type": "code",
   "execution_count": 16,
   "metadata": {},
   "outputs": [],
   "source": [
    "years = [\"1999-2000\",\"2001-2002\",\"2003-2004\",\"2005-2006\",\"2007-2008\",\n",
    "           \"2009-2010\",\"2011-2012\",\"2013-2014\",\"2015-2016\"]"
   ]
  },
  {
   "cell_type": "code",
   "execution_count": 17,
   "metadata": {},
   "outputs": [],
   "source": [
    "frames = [df0, df1, df2, df3, df4, df5, df6, df7, df8]"
   ]
  },
  {
   "cell_type": "code",
   "execution_count": 18,
   "metadata": {},
   "outputs": [],
   "source": [
    "#Add years as a column\n",
    "for i, df in enumerate(frames):\n",
    "    df[\"Year\"] = years[i]"
   ]
  },
  {
   "cell_type": "code",
   "execution_count": 19,
   "metadata": {},
   "outputs": [],
   "source": [
    "result_1999_2016 = pd.concat(frames, keys = years)"
   ]
  },
  {
   "cell_type": "code",
   "execution_count": 20,
   "metadata": {},
   "outputs": [],
   "source": [
    "result_1999_2016_cleaned = result_1999_2016.copy()"
   ]
  },
  {
   "cell_type": "markdown",
   "metadata": {},
   "source": [
    "## Count values for each column"
   ]
  },
  {
   "cell_type": "code",
   "execution_count": 20,
   "metadata": {},
   "outputs": [
    {
     "data": {
      "text/plain": [
       "['SEQN', 'HUQ010', 'HUQ020', 'HUQ030', 'HUQ040', 'HUQ050', 'HUQ070', 'HUQ090']"
      ]
     },
     "execution_count": 20,
     "metadata": {},
     "output_type": "execute_result"
    }
   ],
   "source": [
    "col_names"
   ]
  },
  {
   "cell_type": "code",
   "execution_count": 21,
   "metadata": {},
   "outputs": [
    {
     "name": "stdout",
     "output_type": "stream",
     "text": [
      "HUQ010\n",
      "1.0    26236\n",
      "2.0    23704\n",
      "3.0    27396\n",
      "4.0    11998\n",
      "5.0     2681\n",
      "7.0       13\n",
      "9.0       29\n",
      "Name: SEQN, dtype: int64 \n",
      "\n",
      " NaN:  5\n"
     ]
    }
   ],
   "source": [
    "#HUQ010\n",
    "count_vals(result_1999_2016, col_names[1])\n",
    "\n",
    "drop_rows(result_1999_2016_cleaned, 'HUQ010', [np.nan, 7, 9])"
   ]
  },
  {
   "cell_type": "code",
   "execution_count": 22,
   "metadata": {},
   "outputs": [
    {
     "name": "stdout",
     "output_type": "stream",
     "text": [
      "HUQ020\n",
      "1.0    16500\n",
      "2.0     6957\n",
      "3.0    64420\n",
      "7.0        5\n",
      "9.0       24\n",
      "Name: SEQN, dtype: int64 \n",
      "\n",
      " NaN:  4156\n"
     ]
    }
   ],
   "source": [
    "#HUQ020\n",
    "count_vals(result_1999_2016, col_names[2])"
   ]
  },
  {
   "cell_type": "code",
   "execution_count": 23,
   "metadata": {},
   "outputs": [
    {
     "name": "stdout",
     "output_type": "stream",
     "text": [
      "HUQ030\n",
      "1.0    80375\n",
      "2.0    11200\n",
      "3.0      475\n",
      "7.0        1\n",
      "9.0        6\n",
      "Name: SEQN, dtype: int64 \n",
      "\n",
      " NaN:  5\n"
     ]
    }
   ],
   "source": [
    "#HUQ030\n",
    "count_vals(result_1999_2016, col_names[3])"
   ]
  },
  {
   "cell_type": "code",
   "execution_count": 24,
   "metadata": {},
   "outputs": [
    {
     "name": "stdout",
     "output_type": "stream",
     "text": [
      "HUQ040\n",
      "1.0    21012\n",
      "2.0    55383\n",
      "3.0     2040\n",
      "4.0     1562\n",
      "5.0      766\n",
      "6.0       68\n",
      "7.0        3\n",
      "9.0       16\n",
      "Name: SEQN, dtype: int64 \n",
      "\n",
      " NaN:  11212\n"
     ]
    }
   ],
   "source": [
    "#HUQ040\n",
    "count_vals(result_1999_2016, col_names[4])"
   ]
  },
  {
   "cell_type": "code",
   "execution_count": 25,
   "metadata": {},
   "outputs": [
    {
     "name": "stdout",
     "output_type": "stream",
     "text": [
      "HUQ050\n",
      "0.0     12888\n",
      "1.0     18780\n",
      "2.0     27686\n",
      "3.0     22465\n",
      "4.0      5081\n",
      "5.0      5045\n",
      "77.0        5\n",
      "99.0      107\n",
      "Name: SEQN, dtype: int64 \n",
      "\n",
      " NaN:  5\n"
     ]
    }
   ],
   "source": [
    "#HUQ050\n",
    "count_vals(result_1999_2016, col_names[5])"
   ]
  },
  {
   "cell_type": "code",
   "execution_count": 26,
   "metadata": {},
   "outputs": [
    {
     "name": "stdout",
     "output_type": "stream",
     "text": [
      "HUQ070\n",
      "1.0     8914\n",
      "2.0    83109\n",
      "7.0        3\n",
      "9.0       31\n",
      "Name: SEQN, dtype: int64 \n",
      "\n",
      " NaN:  5\n"
     ]
    }
   ],
   "source": [
    "#HUQ070\n",
    "count_vals(result_1999_2016, col_names[6])"
   ]
  },
  {
   "cell_type": "code",
   "execution_count": 27,
   "metadata": {},
   "outputs": [
    {
     "name": "stdout",
     "output_type": "stream",
     "text": [
      "HUQ090\n",
      "1.0     6158\n",
      "2.0    74291\n",
      "7.0        9\n",
      "9.0       39\n",
      "Name: SEQN, dtype: int64 \n",
      "\n",
      " NaN:  11565\n"
     ]
    }
   ],
   "source": [
    "#HUQ090\n",
    "count_vals(result_1999_2016, col_names[7])"
   ]
  },
  {
   "cell_type": "code",
   "execution_count": 28,
   "metadata": {},
   "outputs": [
    {
     "data": {
      "text/plain": [
       "92062"
      ]
     },
     "execution_count": 28,
     "metadata": {},
     "output_type": "execute_result"
    }
   ],
   "source": [
    "#\n",
    "len(result_1999_2016)"
   ]
  },
  {
   "cell_type": "markdown",
   "metadata": {},
   "source": [
    "## Remove:  \n",
    "### Values:  \n",
    "77 or 7: Refused  \n",
    "99 or 9: Don't know  \n",
    "NaN: No input  \n",
    "### Columns:  \n",
    "'HUQ040' and 'HUQ090' because too many missing values"
   ]
  },
  {
   "cell_type": "code",
   "execution_count": 29,
   "metadata": {},
   "outputs": [],
   "source": [
    "# Drop 6 for HUQ040\n",
    "# drop_rows(df7, 'HUQ041', [6])\n",
    "# drop_rows(df8, 'HUQ041', [6])\n",
    "\n",
    "#Remove column HUQ040 & HUQ090 - too many missing values\n",
    "result_1999_2016_cleaned.drop(['HUQ040', 'HUQ090'], inplace=True, axis=1)\n",
    "\n",
    "#\n",
    "drop_rows(result_1999_2016_cleaned, 'HUQ010', [np.nan, 7, 9])\n",
    "drop_rows(result_1999_2016_cleaned, 'HUQ020', [np.nan, 7, 9])\n",
    "drop_rows(result_1999_2016_cleaned, 'HUQ030', [np.nan, 7, 9])\n",
    "drop_rows(result_1999_2016_cleaned, 'HUQ050', [np.nan, 77, 99])\n",
    "drop_rows(result_1999_2016_cleaned, 'HUQ070', [np.nan, 7, 9])"
   ]
  },
  {
   "cell_type": "code",
   "execution_count": 30,
   "metadata": {},
   "outputs": [
    {
     "name": "stdout",
     "output_type": "stream",
     "text": [
      "HUQ010\n",
      "1.0    23473\n",
      "2.0    22913\n",
      "3.0    26781\n",
      "4.0    11873\n",
      "5.0     2667\n",
      "Name: SEQN, dtype: int64 \n",
      "\n",
      " NaN:  0\n"
     ]
    }
   ],
   "source": [
    "count_vals(result_1999_2016_cleaned, col_names[1])"
   ]
  },
  {
   "cell_type": "code",
   "execution_count": 31,
   "metadata": {},
   "outputs": [
    {
     "name": "stdout",
     "output_type": "stream",
     "text": [
      "HUQ020\n",
      "1.0    16456\n",
      "2.0     6945\n",
      "3.0    64306\n",
      "Name: SEQN, dtype: int64 \n",
      "\n",
      " NaN:  0\n"
     ]
    }
   ],
   "source": [
    "count_vals(result_1999_2016_cleaned, col_names[2])"
   ]
  },
  {
   "cell_type": "code",
   "execution_count": 32,
   "metadata": {},
   "outputs": [
    {
     "name": "stdout",
     "output_type": "stream",
     "text": [
      "HUQ030\n",
      "1.0    76168\n",
      "2.0    11069\n",
      "3.0      470\n",
      "Name: SEQN, dtype: int64 \n",
      "\n",
      " NaN:  0\n"
     ]
    }
   ],
   "source": [
    "count_vals(result_1999_2016_cleaned, col_names[3])"
   ]
  },
  {
   "cell_type": "code",
   "execution_count": 33,
   "metadata": {},
   "outputs": [
    {
     "name": "stdout",
     "output_type": "stream",
     "text": [
      "HUQ050\n",
      "0.0    12735\n",
      "1.0    18423\n",
      "2.0    26411\n",
      "3.0    20501\n",
      "4.0     4766\n",
      "5.0     4871\n",
      "Name: SEQN, dtype: int64 \n",
      "\n",
      " NaN:  0\n"
     ]
    }
   ],
   "source": [
    "count_vals(result_1999_2016_cleaned, col_names[5])"
   ]
  },
  {
   "cell_type": "code",
   "execution_count": 34,
   "metadata": {},
   "outputs": [
    {
     "name": "stdout",
     "output_type": "stream",
     "text": [
      "HUQ070\n",
      "1.0     8165\n",
      "2.0    79542\n",
      "Name: SEQN, dtype: int64 \n",
      "\n",
      " NaN:  0\n"
     ]
    }
   ],
   "source": [
    "count_vals(result_1999_2016_cleaned, col_names[6])"
   ]
  },
  {
   "cell_type": "code",
   "execution_count": 35,
   "metadata": {},
   "outputs": [
    {
     "data": {
      "text/plain": [
       "0.9526949229866829"
      ]
     },
     "execution_count": 35,
     "metadata": {},
     "output_type": "execute_result"
    }
   ],
   "source": [
    "before = len(result_1999_2016)\n",
    "after = len(result_1999_2016_cleaned)\n",
    "after/before"
   ]
  },
  {
   "cell_type": "code",
   "execution_count": 36,
   "metadata": {},
   "outputs": [
    {
     "data": {
      "text/plain": [
       "87707"
      ]
     },
     "execution_count": 36,
     "metadata": {},
     "output_type": "execute_result"
    }
   ],
   "source": [
    "after"
   ]
  },
  {
   "cell_type": "markdown",
   "metadata": {},
   "source": [
    "## MongoDB Insertion"
   ]
  },
  {
   "cell_type": "code",
   "execution_count": 37,
   "metadata": {},
   "outputs": [],
   "source": [
    "#Import MongoClient\n",
    "from pymongo import MongoClient\n",
    "\n",
    "#Create a MongoClient to run the MongoDB instance\n",
    "client = MongoClient('localhost', 27017)"
   ]
  },
  {
   "cell_type": "code",
   "execution_count": 38,
   "metadata": {},
   "outputs": [],
   "source": [
    "#Connect to existing datbase\n",
    "db = client.NHANES"
   ]
  },
  {
   "cell_type": "code",
   "execution_count": 39,
   "metadata": {},
   "outputs": [
    {
     "data": {
      "text/plain": [
       "Database(MongoClient(host=['localhost:27017'], document_class=dict, tz_aware=False, connect=True), 'NHANES')"
      ]
     },
     "execution_count": 39,
     "metadata": {},
     "output_type": "execute_result"
    }
   ],
   "source": [
    "db"
   ]
  },
  {
   "cell_type": "code",
   "execution_count": 40,
   "metadata": {},
   "outputs": [
    {
     "data": {
      "text/plain": [
       "['smqfam',\n",
       " 'smq',\n",
       " 'mcq',\n",
       " 'hiq',\n",
       " 'demo',\n",
       " 'bpq',\n",
       " 'huq',\n",
       " 'paq',\n",
       " 'whq',\n",
       " 'alq',\n",
       " 'diq']"
      ]
     },
     "execution_count": 40,
     "metadata": {},
     "output_type": "execute_result"
    }
   ],
   "source": [
    "db.list_collection_names()"
   ]
  },
  {
   "cell_type": "code",
   "execution_count": 41,
   "metadata": {},
   "outputs": [],
   "source": [
    "#Create collection in database\n",
    "huq = db.huq"
   ]
  },
  {
   "cell_type": "code",
   "execution_count": 42,
   "metadata": {},
   "outputs": [],
   "source": [
    "#If collections exist, then drop\n",
    "if 'huq' in db.list_collection_names():\n",
    "    huq.drop()\n",
    "    db.list_collection_names()\n",
    "else:\n",
    "    print(\"Doesn't exist yet\")"
   ]
  },
  {
   "cell_type": "markdown",
   "metadata": {},
   "source": [
    "## Create new collection to input into database"
   ]
  },
  {
   "cell_type": "code",
   "execution_count": 43,
   "metadata": {},
   "outputs": [
    {
     "data": {
      "text/html": [
       "<div>\n",
       "<style>\n",
       "    .dataframe thead tr:only-child th {\n",
       "        text-align: right;\n",
       "    }\n",
       "\n",
       "    .dataframe thead th {\n",
       "        text-align: left;\n",
       "    }\n",
       "\n",
       "    .dataframe tbody tr th {\n",
       "        vertical-align: top;\n",
       "    }\n",
       "</style>\n",
       "<table border=\"1\" class=\"dataframe\">\n",
       "  <thead>\n",
       "    <tr style=\"text-align: right;\">\n",
       "      <th></th>\n",
       "      <th></th>\n",
       "      <th>SEQN</th>\n",
       "      <th>HUQ010</th>\n",
       "      <th>HUQ020</th>\n",
       "      <th>HUQ030</th>\n",
       "      <th>HUQ050</th>\n",
       "      <th>HUQ070</th>\n",
       "      <th>Year</th>\n",
       "    </tr>\n",
       "  </thead>\n",
       "  <tbody>\n",
       "    <tr>\n",
       "      <th rowspan=\"3\" valign=\"top\">1999-2000</th>\n",
       "      <th>0</th>\n",
       "      <td>1.0</td>\n",
       "      <td>1.0</td>\n",
       "      <td>3.0</td>\n",
       "      <td>1.0</td>\n",
       "      <td>3.0</td>\n",
       "      <td>1.0</td>\n",
       "      <td>1999-2000</td>\n",
       "    </tr>\n",
       "    <tr>\n",
       "      <th>1</th>\n",
       "      <td>2.0</td>\n",
       "      <td>2.0</td>\n",
       "      <td>2.0</td>\n",
       "      <td>1.0</td>\n",
       "      <td>3.0</td>\n",
       "      <td>1.0</td>\n",
       "      <td>1999-2000</td>\n",
       "    </tr>\n",
       "    <tr>\n",
       "      <th>2</th>\n",
       "      <td>3.0</td>\n",
       "      <td>1.0</td>\n",
       "      <td>1.0</td>\n",
       "      <td>1.0</td>\n",
       "      <td>1.0</td>\n",
       "      <td>2.0</td>\n",
       "      <td>1999-2000</td>\n",
       "    </tr>\n",
       "  </tbody>\n",
       "</table>\n",
       "</div>"
      ],
      "text/plain": [
       "             SEQN  HUQ010  HUQ020  HUQ030  HUQ050  HUQ070       Year\n",
       "1999-2000 0   1.0     1.0     3.0     1.0     3.0     1.0  1999-2000\n",
       "          1   2.0     2.0     2.0     1.0     3.0     1.0  1999-2000\n",
       "          2   3.0     1.0     1.0     1.0     1.0     2.0  1999-2000"
      ]
     },
     "execution_count": 43,
     "metadata": {},
     "output_type": "execute_result"
    }
   ],
   "source": [
    "result_1999_2016_cleaned[:3]"
   ]
  },
  {
   "cell_type": "code",
   "execution_count": 44,
   "metadata": {},
   "outputs": [],
   "source": [
    "#Set SEQN as _id (Primary Key)\n",
    "result_1999_2016_cleaned.rename(columns={'SEQN':'_id'}, inplace=True)"
   ]
  },
  {
   "cell_type": "code",
   "execution_count": 45,
   "metadata": {},
   "outputs": [],
   "source": [
    "#Dataframe to dictionary\n",
    "huq_dict = result_1999_2016_cleaned.to_dict(orient='records')"
   ]
  },
  {
   "cell_type": "code",
   "execution_count": 46,
   "metadata": {},
   "outputs": [
    {
     "data": {
      "text/plain": [
       "{'HUQ010': 1.0,\n",
       " 'HUQ020': 3.0,\n",
       " 'HUQ030': 1.0,\n",
       " 'HUQ050': 3.0,\n",
       " 'HUQ070': 1.0,\n",
       " 'Year': '1999-2000',\n",
       " '_id': 1.0}"
      ]
     },
     "execution_count": 46,
     "metadata": {},
     "output_type": "execute_result"
    }
   ],
   "source": [
    "huq_dict[0]"
   ]
  },
  {
   "cell_type": "code",
   "execution_count": 47,
   "metadata": {},
   "outputs": [
    {
     "data": {
      "text/plain": [
       "<pymongo.results.InsertManyResult at 0x122654208>"
      ]
     },
     "execution_count": 47,
     "metadata": {},
     "output_type": "execute_result"
    }
   ],
   "source": [
    "#Insert collection \n",
    "huq.insert_many(huq_dict)"
   ]
  },
  {
   "cell_type": "code",
   "execution_count": 48,
   "metadata": {},
   "outputs": [
    {
     "data": {
      "text/plain": [
       "['smqfam',\n",
       " 'smq',\n",
       " 'mcq',\n",
       " 'hiq',\n",
       " 'demo',\n",
       " 'bpq',\n",
       " 'huq',\n",
       " 'paq',\n",
       " 'whq',\n",
       " 'alq',\n",
       " 'diq']"
      ]
     },
     "execution_count": 48,
     "metadata": {},
     "output_type": "execute_result"
    }
   ],
   "source": [
    "#View collections\n",
    "db.list_collection_names()"
   ]
  },
  {
   "cell_type": "code",
   "execution_count": 49,
   "metadata": {},
   "outputs": [
    {
     "name": "stderr",
     "output_type": "stream",
     "text": [
      "/Users/changzhoug/anaconda/lib/python3.6/site-packages/ipykernel_launcher.py:1: DeprecationWarning: count is deprecated. Use estimated_document_count or count_documents instead. Please note that $where must be replaced by $expr, $near must be replaced by $geoWithin with $center, and $nearSphere must be replaced by $geoWithin with $centerSphere\n",
      "  \"\"\"Entry point for launching an IPython kernel.\n"
     ]
    },
    {
     "data": {
      "text/plain": [
       "87707"
      ]
     },
     "execution_count": 49,
     "metadata": {},
     "output_type": "execute_result"
    }
   ],
   "source": [
    "db.huq.count() #87707"
   ]
  },
  {
   "cell_type": "code",
   "execution_count": 50,
   "metadata": {},
   "outputs": [],
   "source": [
    "# for h in huq.find():\n",
    "#     print(h)"
   ]
  }
 ],
 "metadata": {
  "kernelspec": {
   "display_name": "Python 3",
   "language": "python",
   "name": "python3"
  },
  "language_info": {
   "codemirror_mode": {
    "name": "ipython",
    "version": 3
   },
   "file_extension": ".py",
   "mimetype": "text/x-python",
   "name": "python",
   "nbconvert_exporter": "python",
   "pygments_lexer": "ipython3",
   "version": "3.6.8"
  }
 },
 "nbformat": 4,
 "nbformat_minor": 2
}
