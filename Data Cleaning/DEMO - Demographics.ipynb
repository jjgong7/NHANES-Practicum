{
 "cells": [
  {
   "cell_type": "code",
   "execution_count": 1,
   "metadata": {},
   "outputs": [],
   "source": [
    "#Import libraries\n",
    "import pandas as pd\n",
    "import numpy as np\n",
    "import matplotlib.pyplot as plt\n",
    "import glob\n",
    "import re\n",
    "from collections import defaultdict"
   ]
  },
  {
   "cell_type": "code",
   "execution_count": 2,
   "metadata": {},
   "outputs": [],
   "source": [
    "#Use one ./ if running from run_notebooks.py\n",
    "#Use two ../if running directly from Jupyter Notebooks\n",
    "#file_beg = '../NHANES-Downloader/data/csv_data/'\n",
    "\n",
    "file_beg = './NHANES-Downloader/data/csv_data/'"
   ]
  },
  {
   "cell_type": "code",
   "execution_count": 3,
   "metadata": {},
   "outputs": [],
   "source": [
    "#Import all the files\n",
    "files1 = glob.glob(file_beg+'1999-2000/*/*.csv')\n",
    "files2 = glob.glob(file_beg+'2001-2002/*/*.csv')\n",
    "files3 = glob.glob(file_beg+'2003-2004/*/*.csv')\n",
    "files4 = glob.glob(file_beg+'2005-2006/*/*.csv')\n",
    "files5 = glob.glob(file_beg+'2007-2008/*/*.csv')\n",
    "files6 = glob.glob(file_beg+'2009-2010/*/*.csv')\n",
    "files7 = glob.glob(file_beg+'2011-2012/*/*.csv')\n",
    "files8 = glob.glob(file_beg+'2013-2014/*/*.csv')\n",
    "files9 = glob.glob(file_beg+'2015-2016/*/*.csv')"
   ]
  },
  {
   "cell_type": "code",
   "execution_count": 3,
   "metadata": {},
   "outputs": [],
   "source": [
    "#Add files into a list\n",
    "file_list = [files1, files2, files3, files4, files5, \n",
    "          files6, files7, files8, files9]"
   ]
  },
  {
   "cell_type": "code",
   "execution_count": 4,
   "metadata": {},
   "outputs": [],
   "source": [
    "#Add files into a list of sorted and dictionaries\n",
    "file_list_dict = []\n",
    "for x in file_list:\n",
    "    x.sort()\n",
    "    file_list_dict.append(dict(enumerate(x)))"
   ]
  },
  {
   "cell_type": "code",
   "execution_count": 5,
   "metadata": {},
   "outputs": [],
   "source": [
    "demo_indx = [0, 0, 0, 0, 0, 0, 0, 0, 0]"
   ]
  },
  {
   "cell_type": "code",
   "execution_count": 6,
   "metadata": {},
   "outputs": [],
   "source": [
    "dfs = defaultdict(int)\n",
    "for i in range(0,len(demo_indx)):\n",
    "    dfs[i] = pd.read_csv(file_list_dict[i][demo_indx[i]])"
   ]
  },
  {
   "cell_type": "markdown",
   "metadata": {},
   "source": [
    "## Important Variables"
   ]
  },
  {
   "cell_type": "code",
   "execution_count": 7,
   "metadata": {},
   "outputs": [],
   "source": [
    "#EDIT: Removed INDHHINC from each after DMDHHSIZ and before INDFMINC\n",
    "#EDIT: Removed INDHHIN2 from each after DMDHHSIZ and before INDFMIN2\n",
    "#EDIT: Removed DMDAGE before DMDREDU before WT variable\n",
    "\n",
    "#1999-2002\n",
    "var_names = [\"SEQN\", \"RIAGENDR\", \"RIDAGEYR\", \"RIDRETH1\", \"DMDBORN\", \"DMDCITZN\", \"DMDHHSIZ\", \"INDFMINC\", \"DMDHREDU\", \"WTINT4YR\", \"WTMEC4YR\"]\n",
    "\n",
    "#2003-2006\n",
    "#RIDRETH1 is the only race/ethnicity variable in the 2005-2006 Demographics data file. The Demographics files that were released for NHANES 1999-2004 had a variable called ‘RIDRETH2’ that provided an analytic link to the NHANES III race/ethnicity variable.\n",
    "var_names1 = [\"SEQN\", \"RIAGENDR\", \"RIDAGEYR\", \"RIDRETH1\", \"DMDBORN\", \"DMDCITZN\", \"DMDHHSIZ\", \"INDFMINC\", \"DMDHREDU\", \"WTINT2YR\", \"WTMEC2YR\"]\n",
    "\n",
    "#2007-2010\n",
    "#DMDHRBRN becomes DMDBORN2\n",
    "#Recategorize DMDHBRN\n",
    "#INDFMINC becomes INDFMIN2 - Recategorize 14 and 15 to 11 to match 1999-2006\n",
    "#INDHHINC becomes INDHHIN2 - Recategorize 14 and 15 to 11 to match 1999-2006\n",
    "var_names2 = [\"SEQN\", \"RIAGENDR\", \"RIDAGEYR\", \"RIDRETH1\", \"DMDBORN2\", \"DMDCITZN\", \"DMDHHSIZ\", \"INDFMIN2\", \"DMDHREDU\", \"WTINT2YR\", \"WTMEC2YR\"]\n",
    "\n",
    "#2011-2016\n",
    "#DMDHRBRN4 becomes 2 categories\n",
    "#Recategorize all previous\n",
    "var_names3 = [\"SEQN\", \"RIAGENDR\", \"RIDAGEYR\", \"RIDRETH1\", \"DMDBORN4\", \"DMDCITZN\", \"DMDHHSIZ\", \"INDFMIN2\", \"DMDHREDU\", \"WTINT2YR\", \"WTMEC2YR\"]"
   ]
  },
  {
   "cell_type": "code",
   "execution_count": 8,
   "metadata": {},
   "outputs": [],
   "source": [
    "#To display all columns in Jupyter Notebooks\n",
    "pd.set_option('display.max_columns', 500)"
   ]
  },
  {
   "cell_type": "markdown",
   "metadata": {},
   "source": [
    "## Functions: Recategorize values, Count Values, Drop Rows"
   ]
  },
  {
   "cell_type": "code",
   "execution_count": 9,
   "metadata": {},
   "outputs": [],
   "source": [
    "#Recategorize function\n",
    "def recategorize(df, name, replace_dict):\n",
    "    df[name].replace(\n",
    "    to_replace=replace_dict,\n",
    "    inplace=True\n",
    ")\n",
    "    \n",
    "#Count values function\n",
    "def count_vals(df, name):\n",
    "    df_count = df.groupby(name)['SEQN'].nunique()\n",
    "    print(df_count,\"\\n\\n\",\"NaN: \", df[name].isnull().sum())\n",
    "    \n",
    "#Drop rows that include certain values\n",
    "def drop_rows(df, name, val_list):\n",
    "    df.drop(df[df[name].isin(val_list)].index, inplace=True)"
   ]
  },
  {
   "cell_type": "markdown",
   "metadata": {},
   "source": [
    "## Make a copy of the dataframes"
   ]
  },
  {
   "cell_type": "code",
   "execution_count": 10,
   "metadata": {},
   "outputs": [],
   "source": [
    "df0 = dfs[0][var_names].copy() #1999-2000\n",
    "df1 = dfs[1][var_names].copy() #2001-2002\n",
    "df2 = dfs[2][var_names1].copy() #2003-2004\n",
    "df3 = dfs[3][var_names1].copy() #2005-2006\n",
    "df4 = dfs[4][var_names2].copy() #2007-2008\n",
    "df5 = dfs[5][var_names2].copy() #2009-2010\n",
    "df6 = dfs[6][var_names3].copy() #2011-2012\n",
    "df7 = dfs[7][var_names3].copy() #2013-2014\n",
    "df8 = dfs[8][var_names3].copy() #2015-2016"
   ]
  },
  {
   "cell_type": "markdown",
   "metadata": {},
   "source": [
    "## Weight for 18-years: 1999 - 2016"
   ]
  },
  {
   "cell_type": "code",
   "execution_count": 11,
   "metadata": {},
   "outputs": [],
   "source": [
    "#Create column for weight\n",
    "def reweight(df, col_name, year_wt, weight):\n",
    "    df[col_name] = df[year_wt]*weight"
   ]
  },
  {
   "cell_type": "code",
   "execution_count": 12,
   "metadata": {},
   "outputs": [],
   "source": [
    "reweight(df0, 'MEC18YR', 'WTMEC4YR', 2/9)\n",
    "reweight(df1, 'MEC18YR', 'WTMEC4YR', 2/9)\n",
    "reweight(df2, 'MEC18YR', 'WTMEC2YR', 1/9)\n",
    "reweight(df3, 'MEC18YR', 'WTMEC2YR', 1/9)\n",
    "reweight(df4, 'MEC18YR', 'WTMEC2YR', 1/9)\n",
    "reweight(df5, 'MEC18YR', 'WTMEC2YR', 1/9)\n",
    "reweight(df6, 'MEC18YR', 'WTMEC2YR', 1/9)\n",
    "reweight(df7, 'MEC18YR', 'WTMEC2YR', 1/9)\n",
    "reweight(df8, 'MEC18YR', 'WTMEC2YR', 1/9)"
   ]
  },
  {
   "cell_type": "markdown",
   "metadata": {},
   "source": [
    "## Remove 2-yr and 4-yr weights"
   ]
  },
  {
   "cell_type": "code",
   "execution_count": 13,
   "metadata": {},
   "outputs": [],
   "source": [
    "#Drop columns\n",
    "def drop_cols(df, cols):\n",
    "    df.drop(cols, axis=1, inplace=True)"
   ]
  },
  {
   "cell_type": "code",
   "execution_count": 14,
   "metadata": {},
   "outputs": [],
   "source": [
    "drop_cols(df0,['WTINT4YR','WTMEC4YR'])\n",
    "drop_cols(df1,['WTINT4YR','WTMEC4YR'])"
   ]
  },
  {
   "cell_type": "code",
   "execution_count": 15,
   "metadata": {},
   "outputs": [],
   "source": [
    "drop_cols(df2,['WTINT2YR','WTMEC2YR'])\n",
    "drop_cols(df3,['WTINT2YR','WTMEC2YR'])\n",
    "drop_cols(df4,['WTINT2YR','WTMEC2YR'])\n",
    "drop_cols(df5,['WTINT2YR','WTMEC2YR'])\n",
    "drop_cols(df6,['WTINT2YR','WTMEC2YR'])\n",
    "drop_cols(df7,['WTINT2YR','WTMEC2YR'])\n",
    "drop_cols(df8,['WTINT2YR','WTMEC2YR'])"
   ]
  },
  {
   "cell_type": "code",
   "execution_count": 16,
   "metadata": {},
   "outputs": [
    {
     "data": {
      "text/html": [
       "<div>\n",
       "<style>\n",
       "    .dataframe thead tr:only-child th {\n",
       "        text-align: right;\n",
       "    }\n",
       "\n",
       "    .dataframe thead th {\n",
       "        text-align: left;\n",
       "    }\n",
       "\n",
       "    .dataframe tbody tr th {\n",
       "        vertical-align: top;\n",
       "    }\n",
       "</style>\n",
       "<table border=\"1\" class=\"dataframe\">\n",
       "  <thead>\n",
       "    <tr style=\"text-align: right;\">\n",
       "      <th></th>\n",
       "      <th>SEQN</th>\n",
       "      <th>RIAGENDR</th>\n",
       "      <th>RIDAGEYR</th>\n",
       "      <th>RIDRETH1</th>\n",
       "      <th>DMDBORN</th>\n",
       "      <th>DMDCITZN</th>\n",
       "      <th>DMDHHSIZ</th>\n",
       "      <th>INDFMINC</th>\n",
       "      <th>DMDHREDU</th>\n",
       "      <th>MEC18YR</th>\n",
       "    </tr>\n",
       "  </thead>\n",
       "  <tbody>\n",
       "    <tr>\n",
       "      <th>0</th>\n",
       "      <td>1.0</td>\n",
       "      <td>2.0</td>\n",
       "      <td>2.0</td>\n",
       "      <td>4.0</td>\n",
       "      <td>1.0</td>\n",
       "      <td>1.0</td>\n",
       "      <td>3.0</td>\n",
       "      <td>3.0</td>\n",
       "      <td>3.0</td>\n",
       "      <td>990.268132</td>\n",
       "    </tr>\n",
       "    <tr>\n",
       "      <th>1</th>\n",
       "      <td>2.0</td>\n",
       "      <td>1.0</td>\n",
       "      <td>77.0</td>\n",
       "      <td>3.0</td>\n",
       "      <td>1.0</td>\n",
       "      <td>1.0</td>\n",
       "      <td>1.0</td>\n",
       "      <td>8.0</td>\n",
       "      <td>5.0</td>\n",
       "      <td>3408.044382</td>\n",
       "    </tr>\n",
       "    <tr>\n",
       "      <th>2</th>\n",
       "      <td>3.0</td>\n",
       "      <td>2.0</td>\n",
       "      <td>10.0</td>\n",
       "      <td>3.0</td>\n",
       "      <td>3.0</td>\n",
       "      <td>2.0</td>\n",
       "      <td>4.0</td>\n",
       "      <td>6.0</td>\n",
       "      <td>4.0</td>\n",
       "      <td>4724.103694</td>\n",
       "    </tr>\n",
       "    <tr>\n",
       "      <th>3</th>\n",
       "      <td>4.0</td>\n",
       "      <td>1.0</td>\n",
       "      <td>1.0</td>\n",
       "      <td>4.0</td>\n",
       "      <td>1.0</td>\n",
       "      <td>1.0</td>\n",
       "      <td>7.0</td>\n",
       "      <td>3.0</td>\n",
       "      <td>3.0</td>\n",
       "      <td>1013.864237</td>\n",
       "    </tr>\n",
       "    <tr>\n",
       "      <th>4</th>\n",
       "      <td>5.0</td>\n",
       "      <td>1.0</td>\n",
       "      <td>49.0</td>\n",
       "      <td>3.0</td>\n",
       "      <td>1.0</td>\n",
       "      <td>1.0</td>\n",
       "      <td>3.0</td>\n",
       "      <td>11.0</td>\n",
       "      <td>4.0</td>\n",
       "      <td>10219.103963</td>\n",
       "    </tr>\n",
       "  </tbody>\n",
       "</table>\n",
       "</div>"
      ],
      "text/plain": [
       "   SEQN  RIAGENDR  RIDAGEYR  RIDRETH1  DMDBORN  DMDCITZN  DMDHHSIZ  INDFMINC  \\\n",
       "0   1.0       2.0       2.0       4.0      1.0       1.0       3.0       3.0   \n",
       "1   2.0       1.0      77.0       3.0      1.0       1.0       1.0       8.0   \n",
       "2   3.0       2.0      10.0       3.0      3.0       2.0       4.0       6.0   \n",
       "3   4.0       1.0       1.0       4.0      1.0       1.0       7.0       3.0   \n",
       "4   5.0       1.0      49.0       3.0      1.0       1.0       3.0      11.0   \n",
       "\n",
       "   DMDHREDU       MEC18YR  \n",
       "0       3.0    990.268132  \n",
       "1       5.0   3408.044382  \n",
       "2       4.0   4724.103694  \n",
       "3       3.0   1013.864237  \n",
       "4       4.0  10219.103963  "
      ]
     },
     "execution_count": 16,
     "metadata": {},
     "output_type": "execute_result"
    }
   ],
   "source": [
    "df0[:5]"
   ]
  },
  {
   "cell_type": "markdown",
   "metadata": {},
   "source": [
    "## Recategorize values"
   ]
  },
  {
   "cell_type": "code",
   "execution_count": 17,
   "metadata": {},
   "outputs": [],
   "source": [
    "#Recategorize DMDBORN to 2 categories\n",
    "recategorize(df0, 'DMDBORN', {3:2, 7:77, 9:99}) #1999-2000\n",
    "recategorize(df1, 'DMDBORN', {3:2, 7:77, 9:99}) #2001-2002\n",
    "recategorize(df2, 'DMDBORN', {3:2, 7:77, 9:99}) #2003-2004\n",
    "recategorize(df3, 'DMDBORN', {3:2, 7:77, 9:99}) #2005-2006\n",
    "\n",
    "\n",
    "#Recategorize DMDBORN2 to 2 categories\n",
    "#Recategorize INHHIN2 to INDHHINC\n",
    "#Recategorize INDFMIN2 to INDFMINC\n",
    "\n",
    "#2007-2008\n",
    "recategorize(df4, 'DMDBORN2', {4:2, 5:2, 7:77, 9:99})\n",
    "#recategorize(df4, 'INDHHIN2', {14:11, 15:11})\n",
    "recategorize(df4, 'INDFMIN2', {14:11, 15:11})\n",
    "\n",
    "#2009-2010\n",
    "recategorize(df5, 'DMDBORN2', {4:2, 5:2, 7:77, 9:99})\n",
    "#recategorize(df5, 'INDHHIN2', {14:11, 15:11})\n",
    "recategorize(df5, 'INDFMIN2', {14:11, 15:11})\n",
    "\n",
    "#2011-2012\n",
    "#recategorize(df6, 'INDHHIN2', {14:11, 15:11})\n",
    "recategorize(df6, 'INDFMIN2', {14:11, 15:11})\n",
    "\n",
    "#2013-2014\n",
    "#recategorize(df7, 'INDHHIN2', {14:11, 15:11})\n",
    "recategorize(df7, 'INDFMIN2', {14:11, 15:11})\n",
    "\n",
    "#2015-2016\n",
    "#recategorize(df8, 'INDHHIN2', {14:11, 15:11})\n",
    "recategorize(df8, 'INDFMIN2', {14:11, 15:11})"
   ]
  },
  {
   "cell_type": "markdown",
   "metadata": {},
   "source": [
    "## Rename columns 1999 - 2016"
   ]
  },
  {
   "cell_type": "code",
   "execution_count": 18,
   "metadata": {},
   "outputs": [],
   "source": [
    "#New column names\n",
    "col_names = [\"SEQN\", \"RIAGENDR\", \"RIDAGEYR\", \"RIDRETH1\", \"DMDBORN4\", \"DMDCITZN\", \"DMDHHSIZ\", \"INDFMINC\", \"DMDHREDU\", \"MEC18YR\"]"
   ]
  },
  {
   "cell_type": "code",
   "execution_count": 19,
   "metadata": {},
   "outputs": [],
   "source": [
    "df0.columns = col_names\n",
    "df1.columns = col_names\n",
    "df2.columns = col_names\n",
    "df3.columns = col_names\n",
    "df4.columns = col_names\n",
    "df5.columns = col_names\n",
    "df6.columns = col_names\n",
    "df7.columns = col_names\n",
    "df8.columns = col_names"
   ]
  },
  {
   "cell_type": "markdown",
   "metadata": {},
   "source": [
    "## Append years 1999 - 2016"
   ]
  },
  {
   "cell_type": "code",
   "execution_count": 20,
   "metadata": {},
   "outputs": [],
   "source": [
    "years = [\"1999-2000\",\"2001-2002\",\"2003-2004\",\"2005-2006\",\"2007-2008\", \n",
    "        \"2009-2010\",\"2011-2012\",\"2013-2014\",\"2015-2016\"]"
   ]
  },
  {
   "cell_type": "code",
   "execution_count": 21,
   "metadata": {},
   "outputs": [],
   "source": [
    "frames = [df0, df1, df2, df3, df4, df5, df6, df7, df8]"
   ]
  },
  {
   "cell_type": "code",
   "execution_count": 22,
   "metadata": {},
   "outputs": [],
   "source": [
    "#Add years as a column\n",
    "for i, df in enumerate(frames):\n",
    "    df[\"Year\"] = years[i]"
   ]
  },
  {
   "cell_type": "code",
   "execution_count": 23,
   "metadata": {},
   "outputs": [],
   "source": [
    "result_1999_2016 = pd.concat(frames, keys = years)"
   ]
  },
  {
   "cell_type": "code",
   "execution_count": 24,
   "metadata": {},
   "outputs": [],
   "source": [
    "result_1999_2016_cleaned = result_1999_2016.copy()"
   ]
  },
  {
   "cell_type": "code",
   "execution_count": 25,
   "metadata": {},
   "outputs": [],
   "source": [
    "#Getting rows by keys\n",
    "#result_1999_2016.loc[years[0]][:5]"
   ]
  },
  {
   "cell_type": "code",
   "execution_count": 26,
   "metadata": {},
   "outputs": [
    {
     "data": {
      "text/plain": [
       "92062"
      ]
     },
     "execution_count": 26,
     "metadata": {},
     "output_type": "execute_result"
    }
   ],
   "source": [
    "len(result_1999_2016)"
   ]
  },
  {
   "cell_type": "markdown",
   "metadata": {},
   "source": [
    "## Count values for each column"
   ]
  },
  {
   "cell_type": "code",
   "execution_count": 27,
   "metadata": {},
   "outputs": [
    {
     "data": {
      "text/plain": [
       "10"
      ]
     },
     "execution_count": 27,
     "metadata": {},
     "output_type": "execute_result"
    }
   ],
   "source": [
    "len(col_names)"
   ]
  },
  {
   "cell_type": "code",
   "execution_count": 28,
   "metadata": {},
   "outputs": [
    {
     "name": "stdout",
     "output_type": "stream",
     "text": [
      "RIAGENDR\n",
      "1.0    45336\n",
      "2.0    46726\n",
      "Name: SEQN, dtype: int64 \n",
      "\n",
      " NaN:  0\n"
     ]
    }
   ],
   "source": [
    "#RIAGENDR - Gender of the sample person\n",
    "count_vals(result_1999_2016, col_names[1])"
   ]
  },
  {
   "cell_type": "code",
   "execution_count": 29,
   "metadata": {},
   "outputs": [],
   "source": [
    "#RIDAGEYR - Age at Screening Adjudicated\n",
    "#count_vals(result_1999_2016, col_names[2])"
   ]
  },
  {
   "cell_type": "code",
   "execution_count": 30,
   "metadata": {},
   "outputs": [
    {
     "name": "stdout",
     "output_type": "stream",
     "text": [
      "RIDRETH1\n",
      "1.0    21082\n",
      "2.0     7474\n",
      "3.0    34282\n",
      "4.0    21529\n",
      "5.0     7695\n",
      "Name: SEQN, dtype: int64 \n",
      "\n",
      " NaN:  0\n"
     ]
    }
   ],
   "source": [
    "#RIDRETH1 - Race/Ethnicity\n",
    "count_vals(result_1999_2016, col_names[3])"
   ]
  },
  {
   "cell_type": "code",
   "execution_count": 31,
   "metadata": {},
   "outputs": [
    {
     "name": "stdout",
     "output_type": "stream",
     "text": [
      "DMDBORN4\n",
      "1.0     75542\n",
      "2.0     16466\n",
      "77.0       29\n",
      "99.0        9\n",
      "Name: SEQN, dtype: int64 \n",
      "\n",
      " NaN:  16\n"
     ]
    }
   ],
   "source": [
    "#DMDBORN4 - Country of Birth\n",
    "count_vals(result_1999_2016, col_names[4])"
   ]
  },
  {
   "cell_type": "code",
   "execution_count": 32,
   "metadata": {},
   "outputs": [
    {
     "name": "stdout",
     "output_type": "stream",
     "text": [
      "DMDCITZN\n",
      "1.0    82224\n",
      "2.0     9649\n",
      "7.0      111\n",
      "9.0       47\n",
      "Name: SEQN, dtype: int64 \n",
      "\n",
      " NaN:  31\n"
     ]
    }
   ],
   "source": [
    "#DMDCITZN - Citizenship status\n",
    "count_vals(result_1999_2016, col_names[5])"
   ]
  },
  {
   "cell_type": "code",
   "execution_count": 33,
   "metadata": {},
   "outputs": [
    {
     "name": "stdout",
     "output_type": "stream",
     "text": [
      "DMDHHSIZ\n",
      "1.0     7408\n",
      "2.0    17207\n",
      "3.0    16162\n",
      "4.0    19333\n",
      "5.0    14862\n",
      "6.0     8027\n",
      "7.0     9063\n",
      "Name: SEQN, dtype: int64 \n",
      "\n",
      " NaN:  0\n"
     ]
    }
   ],
   "source": [
    "#DMDHHSIZ - Total number of people in the Household\n",
    "count_vals(result_1999_2016, col_names[6])"
   ]
  },
  {
   "cell_type": "code",
   "execution_count": 34,
   "metadata": {},
   "outputs": [],
   "source": [
    "#INDHHINC - Annual Household Income\n",
    "#count_vals(result_1999_2016, col_names[7])"
   ]
  },
  {
   "cell_type": "code",
   "execution_count": 35,
   "metadata": {},
   "outputs": [
    {
     "name": "stdout",
     "output_type": "stream",
     "text": [
      "INDFMINC\n",
      "1.0      3914\n",
      "2.0      5370\n",
      "3.0      7891\n",
      "4.0      7223\n",
      "5.0      7733\n",
      "6.0     10759\n",
      "7.0      8165\n",
      "8.0      6729\n",
      "9.0      4796\n",
      "10.0     3878\n",
      "11.0    17639\n",
      "12.0     2300\n",
      "13.0     1404\n",
      "77.0     1647\n",
      "99.0     1302\n",
      "Name: SEQN, dtype: int64 \n",
      "\n",
      " NaN:  1312\n"
     ]
    }
   ],
   "source": [
    "#INDFMINC - Annual Family Income\n",
    "count_vals(result_1999_2016, col_names[7])"
   ]
  },
  {
   "cell_type": "code",
   "execution_count": 36,
   "metadata": {},
   "outputs": [],
   "source": [
    "#DMDHRAGE - HH Ref Person Age\n",
    "#count_vals(result_1999_2016, col_names[9])"
   ]
  },
  {
   "cell_type": "code",
   "execution_count": 37,
   "metadata": {},
   "outputs": [
    {
     "name": "stdout",
     "output_type": "stream",
     "text": [
      "DMDHREDU\n",
      "1.0    11069\n",
      "2.0    15178\n",
      "3.0    20841\n",
      "4.0    23868\n",
      "5.0    17656\n",
      "7.0       65\n",
      "9.0      372\n",
      "Name: SEQN, dtype: int64 \n",
      "\n",
      " NaN:  3013\n"
     ]
    }
   ],
   "source": [
    "#DMDHREDU - HH reference person's education level\n",
    "count_vals(result_1999_2016, col_names[8])"
   ]
  },
  {
   "cell_type": "code",
   "execution_count": 38,
   "metadata": {},
   "outputs": [
    {
     "data": {
      "text/plain": [
       "92062"
      ]
     },
     "execution_count": 38,
     "metadata": {},
     "output_type": "execute_result"
    }
   ],
   "source": [
    "len(result_1999_2016)"
   ]
  },
  {
   "cell_type": "code",
   "execution_count": 39,
   "metadata": {},
   "outputs": [
    {
     "data": {
      "text/html": [
       "<div>\n",
       "<style>\n",
       "    .dataframe thead tr:only-child th {\n",
       "        text-align: right;\n",
       "    }\n",
       "\n",
       "    .dataframe thead th {\n",
       "        text-align: left;\n",
       "    }\n",
       "\n",
       "    .dataframe tbody tr th {\n",
       "        vertical-align: top;\n",
       "    }\n",
       "</style>\n",
       "<table border=\"1\" class=\"dataframe\">\n",
       "  <thead>\n",
       "    <tr style=\"text-align: right;\">\n",
       "      <th></th>\n",
       "      <th></th>\n",
       "      <th>SEQN</th>\n",
       "      <th>RIAGENDR</th>\n",
       "      <th>RIDAGEYR</th>\n",
       "      <th>RIDRETH1</th>\n",
       "      <th>DMDBORN4</th>\n",
       "      <th>DMDCITZN</th>\n",
       "      <th>DMDHHSIZ</th>\n",
       "      <th>INDFMINC</th>\n",
       "      <th>DMDHREDU</th>\n",
       "      <th>MEC18YR</th>\n",
       "      <th>Year</th>\n",
       "    </tr>\n",
       "  </thead>\n",
       "  <tbody>\n",
       "    <tr>\n",
       "      <th rowspan=\"5\" valign=\"top\">1999-2000</th>\n",
       "      <th>0</th>\n",
       "      <td>1.0</td>\n",
       "      <td>2.0</td>\n",
       "      <td>2.0</td>\n",
       "      <td>4.0</td>\n",
       "      <td>1.0</td>\n",
       "      <td>1.0</td>\n",
       "      <td>3.0</td>\n",
       "      <td>3.0</td>\n",
       "      <td>3.0</td>\n",
       "      <td>990.268132</td>\n",
       "      <td>1999-2000</td>\n",
       "    </tr>\n",
       "    <tr>\n",
       "      <th>1</th>\n",
       "      <td>2.0</td>\n",
       "      <td>1.0</td>\n",
       "      <td>77.0</td>\n",
       "      <td>3.0</td>\n",
       "      <td>1.0</td>\n",
       "      <td>1.0</td>\n",
       "      <td>1.0</td>\n",
       "      <td>8.0</td>\n",
       "      <td>5.0</td>\n",
       "      <td>3408.044382</td>\n",
       "      <td>1999-2000</td>\n",
       "    </tr>\n",
       "    <tr>\n",
       "      <th>2</th>\n",
       "      <td>3.0</td>\n",
       "      <td>2.0</td>\n",
       "      <td>10.0</td>\n",
       "      <td>3.0</td>\n",
       "      <td>2.0</td>\n",
       "      <td>2.0</td>\n",
       "      <td>4.0</td>\n",
       "      <td>6.0</td>\n",
       "      <td>4.0</td>\n",
       "      <td>4724.103694</td>\n",
       "      <td>1999-2000</td>\n",
       "    </tr>\n",
       "    <tr>\n",
       "      <th>3</th>\n",
       "      <td>4.0</td>\n",
       "      <td>1.0</td>\n",
       "      <td>1.0</td>\n",
       "      <td>4.0</td>\n",
       "      <td>1.0</td>\n",
       "      <td>1.0</td>\n",
       "      <td>7.0</td>\n",
       "      <td>3.0</td>\n",
       "      <td>3.0</td>\n",
       "      <td>1013.864237</td>\n",
       "      <td>1999-2000</td>\n",
       "    </tr>\n",
       "    <tr>\n",
       "      <th>4</th>\n",
       "      <td>5.0</td>\n",
       "      <td>1.0</td>\n",
       "      <td>49.0</td>\n",
       "      <td>3.0</td>\n",
       "      <td>1.0</td>\n",
       "      <td>1.0</td>\n",
       "      <td>3.0</td>\n",
       "      <td>11.0</td>\n",
       "      <td>4.0</td>\n",
       "      <td>10219.103963</td>\n",
       "      <td>1999-2000</td>\n",
       "    </tr>\n",
       "  </tbody>\n",
       "</table>\n",
       "</div>"
      ],
      "text/plain": [
       "             SEQN  RIAGENDR  RIDAGEYR  RIDRETH1  DMDBORN4  DMDCITZN  DMDHHSIZ  \\\n",
       "1999-2000 0   1.0       2.0       2.0       4.0       1.0       1.0       3.0   \n",
       "          1   2.0       1.0      77.0       3.0       1.0       1.0       1.0   \n",
       "          2   3.0       2.0      10.0       3.0       2.0       2.0       4.0   \n",
       "          3   4.0       1.0       1.0       4.0       1.0       1.0       7.0   \n",
       "          4   5.0       1.0      49.0       3.0       1.0       1.0       3.0   \n",
       "\n",
       "             INDFMINC  DMDHREDU       MEC18YR       Year  \n",
       "1999-2000 0       3.0       3.0    990.268132  1999-2000  \n",
       "          1       8.0       5.0   3408.044382  1999-2000  \n",
       "          2       6.0       4.0   4724.103694  1999-2000  \n",
       "          3       3.0       3.0   1013.864237  1999-2000  \n",
       "          4      11.0       4.0  10219.103963  1999-2000  "
      ]
     },
     "execution_count": 39,
     "metadata": {},
     "output_type": "execute_result"
    }
   ],
   "source": [
    "result_1999_2016_cleaned[:5]"
   ]
  },
  {
   "cell_type": "markdown",
   "metadata": {},
   "source": [
    "## Remove rows with missing values:"
   ]
  },
  {
   "cell_type": "code",
   "execution_count": 40,
   "metadata": {},
   "outputs": [],
   "source": [
    "drop_rows(result_1999_2016_cleaned, col_names[1], [np.nan])\n",
    "drop_rows(result_1999_2016_cleaned, col_names[2], [np.nan])\n",
    "drop_rows(result_1999_2016_cleaned, col_names[3], [np.nan])\n",
    "drop_rows(result_1999_2016_cleaned, col_names[4], [np.nan, 77, 99])\n",
    "drop_rows(result_1999_2016_cleaned, col_names[5], [np.nan, 7, 9])\n",
    "drop_rows(result_1999_2016_cleaned, col_names[6], [np.nan])\n",
    "drop_rows(result_1999_2016_cleaned, col_names[7], [np.nan, 12, 13, 77, 99])\n",
    "#drop_rows(result_1999_2016_cleaned, col_names[8], [np.nan, 13, 13, 77, 99]) #Previously INDHHINC\n",
    "#drop_rows(result_1999_2016_cleaned, col_names[8], [np.nan]) #Previously DMDHREDU\n",
    "drop_rows(result_1999_2016_cleaned, col_names[8], [np.nan, 7, 9]) "
   ]
  },
  {
   "cell_type": "code",
   "execution_count": 41,
   "metadata": {},
   "outputs": [
    {
     "data": {
      "text/plain": [
       "81635"
      ]
     },
     "execution_count": 41,
     "metadata": {},
     "output_type": "execute_result"
    }
   ],
   "source": [
    "len(result_1999_2016_cleaned)"
   ]
  },
  {
   "cell_type": "code",
   "execution_count": 42,
   "metadata": {},
   "outputs": [
    {
     "data": {
      "text/html": [
       "<div>\n",
       "<style>\n",
       "    .dataframe thead tr:only-child th {\n",
       "        text-align: right;\n",
       "    }\n",
       "\n",
       "    .dataframe thead th {\n",
       "        text-align: left;\n",
       "    }\n",
       "\n",
       "    .dataframe tbody tr th {\n",
       "        vertical-align: top;\n",
       "    }\n",
       "</style>\n",
       "<table border=\"1\" class=\"dataframe\">\n",
       "  <thead>\n",
       "    <tr style=\"text-align: right;\">\n",
       "      <th></th>\n",
       "      <th></th>\n",
       "      <th>SEQN</th>\n",
       "      <th>RIAGENDR</th>\n",
       "      <th>RIDAGEYR</th>\n",
       "      <th>RIDRETH1</th>\n",
       "      <th>DMDBORN4</th>\n",
       "      <th>DMDCITZN</th>\n",
       "      <th>DMDHHSIZ</th>\n",
       "      <th>INDFMINC</th>\n",
       "      <th>DMDHREDU</th>\n",
       "      <th>MEC18YR</th>\n",
       "      <th>Year</th>\n",
       "    </tr>\n",
       "  </thead>\n",
       "  <tbody>\n",
       "    <tr>\n",
       "      <th rowspan=\"5\" valign=\"top\">1999-2000</th>\n",
       "      <th>0</th>\n",
       "      <td>1.0</td>\n",
       "      <td>2.0</td>\n",
       "      <td>2.0</td>\n",
       "      <td>4.0</td>\n",
       "      <td>1.0</td>\n",
       "      <td>1.0</td>\n",
       "      <td>3.0</td>\n",
       "      <td>3.0</td>\n",
       "      <td>3.0</td>\n",
       "      <td>990.268132</td>\n",
       "      <td>1999-2000</td>\n",
       "    </tr>\n",
       "    <tr>\n",
       "      <th>1</th>\n",
       "      <td>2.0</td>\n",
       "      <td>1.0</td>\n",
       "      <td>77.0</td>\n",
       "      <td>3.0</td>\n",
       "      <td>1.0</td>\n",
       "      <td>1.0</td>\n",
       "      <td>1.0</td>\n",
       "      <td>8.0</td>\n",
       "      <td>5.0</td>\n",
       "      <td>3408.044382</td>\n",
       "      <td>1999-2000</td>\n",
       "    </tr>\n",
       "    <tr>\n",
       "      <th>2</th>\n",
       "      <td>3.0</td>\n",
       "      <td>2.0</td>\n",
       "      <td>10.0</td>\n",
       "      <td>3.0</td>\n",
       "      <td>2.0</td>\n",
       "      <td>2.0</td>\n",
       "      <td>4.0</td>\n",
       "      <td>6.0</td>\n",
       "      <td>4.0</td>\n",
       "      <td>4724.103694</td>\n",
       "      <td>1999-2000</td>\n",
       "    </tr>\n",
       "    <tr>\n",
       "      <th>3</th>\n",
       "      <td>4.0</td>\n",
       "      <td>1.0</td>\n",
       "      <td>1.0</td>\n",
       "      <td>4.0</td>\n",
       "      <td>1.0</td>\n",
       "      <td>1.0</td>\n",
       "      <td>7.0</td>\n",
       "      <td>3.0</td>\n",
       "      <td>3.0</td>\n",
       "      <td>1013.864237</td>\n",
       "      <td>1999-2000</td>\n",
       "    </tr>\n",
       "    <tr>\n",
       "      <th>4</th>\n",
       "      <td>5.0</td>\n",
       "      <td>1.0</td>\n",
       "      <td>49.0</td>\n",
       "      <td>3.0</td>\n",
       "      <td>1.0</td>\n",
       "      <td>1.0</td>\n",
       "      <td>3.0</td>\n",
       "      <td>11.0</td>\n",
       "      <td>4.0</td>\n",
       "      <td>10219.103963</td>\n",
       "      <td>1999-2000</td>\n",
       "    </tr>\n",
       "  </tbody>\n",
       "</table>\n",
       "</div>"
      ],
      "text/plain": [
       "             SEQN  RIAGENDR  RIDAGEYR  RIDRETH1  DMDBORN4  DMDCITZN  DMDHHSIZ  \\\n",
       "1999-2000 0   1.0       2.0       2.0       4.0       1.0       1.0       3.0   \n",
       "          1   2.0       1.0      77.0       3.0       1.0       1.0       1.0   \n",
       "          2   3.0       2.0      10.0       3.0       2.0       2.0       4.0   \n",
       "          3   4.0       1.0       1.0       4.0       1.0       1.0       7.0   \n",
       "          4   5.0       1.0      49.0       3.0       1.0       1.0       3.0   \n",
       "\n",
       "             INDFMINC  DMDHREDU       MEC18YR       Year  \n",
       "1999-2000 0       3.0       3.0    990.268132  1999-2000  \n",
       "          1       8.0       5.0   3408.044382  1999-2000  \n",
       "          2       6.0       4.0   4724.103694  1999-2000  \n",
       "          3       3.0       3.0   1013.864237  1999-2000  \n",
       "          4      11.0       4.0  10219.103963  1999-2000  "
      ]
     },
     "execution_count": 42,
     "metadata": {},
     "output_type": "execute_result"
    }
   ],
   "source": [
    "result_1999_2016_cleaned[:5]"
   ]
  },
  {
   "cell_type": "markdown",
   "metadata": {},
   "source": [
    "## See if missing values have been correctly removed:"
   ]
  },
  {
   "cell_type": "code",
   "execution_count": 43,
   "metadata": {},
   "outputs": [
    {
     "name": "stdout",
     "output_type": "stream",
     "text": [
      "RIAGENDR\n",
      "1.0    40388\n",
      "2.0    41247\n",
      "Name: SEQN, dtype: int64 \n",
      "\n",
      " NaN:  0\n"
     ]
    }
   ],
   "source": [
    "count_vals(result_1999_2016_cleaned, col_names[1])"
   ]
  },
  {
   "cell_type": "code",
   "execution_count": 44,
   "metadata": {},
   "outputs": [
    {
     "name": "stdout",
     "output_type": "stream",
     "text": [
      "RIDAGEYR\n",
      "5.397605e-79    3734\n",
      "1.000000e+00    2463\n",
      "2.000000e+00    2503\n",
      "3.000000e+00    1688\n",
      "4.000000e+00    1805\n",
      "5.000000e+00    1617\n",
      "6.000000e+00    1695\n",
      "7.000000e+00    1672\n",
      "8.000000e+00    1680\n",
      "9.000000e+00    1619\n",
      "1.000000e+01    1603\n",
      "1.100000e+01    1681\n",
      "1.200000e+01    1844\n",
      "1.300000e+01    1847\n",
      "1.400000e+01    1898\n",
      "1.500000e+01    1751\n",
      "1.600000e+01    1861\n",
      "1.700000e+01    1721\n",
      "1.800000e+01    1650\n",
      "1.900000e+01    1586\n",
      "2.000000e+01     761\n",
      "2.100000e+01     762\n",
      "2.200000e+01     793\n",
      "2.300000e+01     793\n",
      "2.400000e+01     768\n",
      "2.500000e+01     752\n",
      "2.600000e+01     784\n",
      "2.700000e+01     719\n",
      "2.800000e+01     738\n",
      "2.900000e+01     801\n",
      "                ... \n",
      "5.600000e+01     602\n",
      "5.700000e+01     547\n",
      "5.800000e+01     501\n",
      "5.900000e+01     524\n",
      "6.000000e+01     874\n",
      "6.100000e+01     801\n",
      "6.200000e+01     775\n",
      "6.300000e+01     726\n",
      "6.400000e+01     664\n",
      "6.500000e+01     675\n",
      "6.600000e+01     638\n",
      "6.700000e+01     574\n",
      "6.800000e+01     564\n",
      "6.900000e+01     523\n",
      "7.000000e+01     621\n",
      "7.100000e+01     549\n",
      "7.200000e+01     530\n",
      "7.300000e+01     522\n",
      "7.400000e+01     484\n",
      "7.500000e+01     458\n",
      "7.600000e+01     425\n",
      "7.700000e+01     375\n",
      "7.800000e+01     389\n",
      "7.900000e+01     323\n",
      "8.000000e+01    1893\n",
      "8.100000e+01     232\n",
      "8.200000e+01     186\n",
      "8.300000e+01     136\n",
      "8.400000e+01     154\n",
      "8.500000e+01     649\n",
      "Name: SEQN, Length: 86, dtype: int64 \n",
      "\n",
      " NaN:  0\n"
     ]
    }
   ],
   "source": [
    "count_vals(result_1999_2016_cleaned, col_names[2])"
   ]
  },
  {
   "cell_type": "code",
   "execution_count": 45,
   "metadata": {},
   "outputs": [
    {
     "name": "stdout",
     "output_type": "stream",
     "text": [
      "RIDRETH1\n",
      "1.0    18092\n",
      "2.0     6348\n",
      "3.0    31387\n",
      "4.0    19149\n",
      "5.0     6659\n",
      "Name: SEQN, dtype: int64 \n",
      "\n",
      " NaN:  0\n"
     ]
    }
   ],
   "source": [
    "count_vals(result_1999_2016_cleaned, col_names[3])"
   ]
  },
  {
   "cell_type": "code",
   "execution_count": 46,
   "metadata": {},
   "outputs": [
    {
     "name": "stdout",
     "output_type": "stream",
     "text": [
      "DMDBORN4\n",
      "1.0    67867\n",
      "2.0    13768\n",
      "Name: SEQN, dtype: int64 \n",
      "\n",
      " NaN:  0\n"
     ]
    }
   ],
   "source": [
    "count_vals(result_1999_2016_cleaned, col_names[4])"
   ]
  },
  {
   "cell_type": "code",
   "execution_count": 47,
   "metadata": {},
   "outputs": [
    {
     "name": "stdout",
     "output_type": "stream",
     "text": [
      "DMDCITZN\n",
      "1.0    73619\n",
      "2.0     8016\n",
      "Name: SEQN, dtype: int64 \n",
      "\n",
      " NaN:  0\n"
     ]
    }
   ],
   "source": [
    "count_vals(result_1999_2016_cleaned, col_names[5])"
   ]
  },
  {
   "cell_type": "code",
   "execution_count": 48,
   "metadata": {},
   "outputs": [
    {
     "name": "stdout",
     "output_type": "stream",
     "text": [
      "DMDHHSIZ\n",
      "1.0     6804\n",
      "2.0    15449\n",
      "3.0    14513\n",
      "4.0    17223\n",
      "5.0    13214\n",
      "6.0     7031\n",
      "7.0     7401\n",
      "Name: SEQN, dtype: int64 \n",
      "\n",
      " NaN:  0\n"
     ]
    }
   ],
   "source": [
    "count_vals(result_1999_2016_cleaned, col_names[6])"
   ]
  },
  {
   "cell_type": "code",
   "execution_count": 49,
   "metadata": {},
   "outputs": [
    {
     "name": "stdout",
     "output_type": "stream",
     "text": [
      "INDFMINC\n",
      "1.0      3702\n",
      "2.0      5199\n",
      "3.0      7651\n",
      "4.0      6992\n",
      "5.0      7490\n",
      "6.0     10516\n",
      "7.0      7977\n",
      "8.0      6521\n",
      "9.0      4688\n",
      "10.0     3791\n",
      "11.0    17108\n",
      "Name: SEQN, dtype: int64 \n",
      "\n",
      " NaN:  0\n"
     ]
    }
   ],
   "source": [
    "count_vals(result_1999_2016_cleaned, col_names[7])"
   ]
  },
  {
   "cell_type": "code",
   "execution_count": 50,
   "metadata": {},
   "outputs": [
    {
     "name": "stdout",
     "output_type": "stream",
     "text": [
      "DMDHREDU\n",
      "1.0     9714\n",
      "2.0    13787\n",
      "3.0    19160\n",
      "4.0    22351\n",
      "5.0    16623\n",
      "Name: SEQN, dtype: int64 \n",
      "\n",
      " NaN:  0\n"
     ]
    }
   ],
   "source": [
    "count_vals(result_1999_2016_cleaned, col_names[8])"
   ]
  },
  {
   "cell_type": "code",
   "execution_count": 51,
   "metadata": {},
   "outputs": [
    {
     "data": {
      "text/plain": [
       "92062"
      ]
     },
     "execution_count": 51,
     "metadata": {},
     "output_type": "execute_result"
    }
   ],
   "source": [
    "before = len(result_1999_2016)\n",
    "before"
   ]
  },
  {
   "cell_type": "code",
   "execution_count": 52,
   "metadata": {},
   "outputs": [
    {
     "data": {
      "text/plain": [
       "81635"
      ]
     },
     "execution_count": 52,
     "metadata": {},
     "output_type": "execute_result"
    }
   ],
   "source": [
    "after = len(result_1999_2016_cleaned)\n",
    "after"
   ]
  },
  {
   "cell_type": "code",
   "execution_count": 53,
   "metadata": {},
   "outputs": [
    {
     "data": {
      "text/plain": [
       "0.1277270778465119"
      ]
     },
     "execution_count": 53,
     "metadata": {},
     "output_type": "execute_result"
    }
   ],
   "source": [
    "(before-after)/after"
   ]
  },
  {
   "cell_type": "markdown",
   "metadata": {},
   "source": [
    "## MongoDB Insertion"
   ]
  },
  {
   "cell_type": "code",
   "execution_count": 54,
   "metadata": {},
   "outputs": [],
   "source": [
    "#Import MongoClient\n",
    "from pymongo import MongoClient"
   ]
  },
  {
   "cell_type": "code",
   "execution_count": 55,
   "metadata": {},
   "outputs": [],
   "source": [
    "#Create a MongoClient to run the MongoDB instance\n",
    "client = MongoClient(\"localhost\", 27017)"
   ]
  },
  {
   "cell_type": "code",
   "execution_count": 56,
   "metadata": {},
   "outputs": [
    {
     "data": {
      "text/plain": [
       "MongoClient(host=['localhost:27017'], document_class=dict, tz_aware=False, connect=True)"
      ]
     },
     "execution_count": 56,
     "metadata": {},
     "output_type": "execute_result"
    }
   ],
   "source": [
    "client"
   ]
  },
  {
   "cell_type": "code",
   "execution_count": 57,
   "metadata": {},
   "outputs": [
    {
     "data": {
      "text/plain": [
       "Database(MongoClient(host=['localhost:27017'], document_class=dict, tz_aware=False, connect=True), 'NHANES')"
      ]
     },
     "execution_count": 57,
     "metadata": {},
     "output_type": "execute_result"
    }
   ],
   "source": [
    "#Creating a database\n",
    "db = client['NHANES']\n",
    "db"
   ]
  },
  {
   "cell_type": "code",
   "execution_count": 58,
   "metadata": {},
   "outputs": [
    {
     "data": {
      "text/plain": [
       "['smqfam',\n",
       " 'smq',\n",
       " 'mcq',\n",
       " 'hiq',\n",
       " 'demo',\n",
       " 'bpq',\n",
       " 'huq',\n",
       " 'paq',\n",
       " 'whq',\n",
       " 'alq',\n",
       " 'diq']"
      ]
     },
     "execution_count": 58,
     "metadata": {},
     "output_type": "execute_result"
    }
   ],
   "source": [
    "db.list_collection_names()"
   ]
  },
  {
   "cell_type": "code",
   "execution_count": 59,
   "metadata": {},
   "outputs": [],
   "source": [
    "#Creating a collection\n",
    "demo = db.demo"
   ]
  },
  {
   "cell_type": "code",
   "execution_count": 60,
   "metadata": {},
   "outputs": [],
   "source": [
    "#If collections exist, then drop\n",
    "if 'demo' in db.list_collection_names():\n",
    "    demo.drop()\n",
    "    db.list_collection_names()"
   ]
  },
  {
   "cell_type": "markdown",
   "metadata": {},
   "source": [
    "## Inputting into DB"
   ]
  },
  {
   "cell_type": "code",
   "execution_count": 61,
   "metadata": {},
   "outputs": [],
   "source": [
    "result_1999_2016_cleaned.rename(columns= {'SEQN':'_id'}, inplace=True)"
   ]
  },
  {
   "cell_type": "code",
   "execution_count": 62,
   "metadata": {},
   "outputs": [
    {
     "data": {
      "text/html": [
       "<div>\n",
       "<style>\n",
       "    .dataframe thead tr:only-child th {\n",
       "        text-align: right;\n",
       "    }\n",
       "\n",
       "    .dataframe thead th {\n",
       "        text-align: left;\n",
       "    }\n",
       "\n",
       "    .dataframe tbody tr th {\n",
       "        vertical-align: top;\n",
       "    }\n",
       "</style>\n",
       "<table border=\"1\" class=\"dataframe\">\n",
       "  <thead>\n",
       "    <tr style=\"text-align: right;\">\n",
       "      <th></th>\n",
       "      <th></th>\n",
       "      <th>_id</th>\n",
       "      <th>RIAGENDR</th>\n",
       "      <th>RIDAGEYR</th>\n",
       "      <th>RIDRETH1</th>\n",
       "      <th>DMDBORN4</th>\n",
       "      <th>DMDCITZN</th>\n",
       "      <th>DMDHHSIZ</th>\n",
       "      <th>INDFMINC</th>\n",
       "      <th>DMDHREDU</th>\n",
       "      <th>MEC18YR</th>\n",
       "      <th>Year</th>\n",
       "    </tr>\n",
       "  </thead>\n",
       "  <tbody>\n",
       "    <tr>\n",
       "      <th rowspan=\"3\" valign=\"top\">1999-2000</th>\n",
       "      <th>0</th>\n",
       "      <td>1.0</td>\n",
       "      <td>2.0</td>\n",
       "      <td>2.0</td>\n",
       "      <td>4.0</td>\n",
       "      <td>1.0</td>\n",
       "      <td>1.0</td>\n",
       "      <td>3.0</td>\n",
       "      <td>3.0</td>\n",
       "      <td>3.0</td>\n",
       "      <td>990.268132</td>\n",
       "      <td>1999-2000</td>\n",
       "    </tr>\n",
       "    <tr>\n",
       "      <th>1</th>\n",
       "      <td>2.0</td>\n",
       "      <td>1.0</td>\n",
       "      <td>77.0</td>\n",
       "      <td>3.0</td>\n",
       "      <td>1.0</td>\n",
       "      <td>1.0</td>\n",
       "      <td>1.0</td>\n",
       "      <td>8.0</td>\n",
       "      <td>5.0</td>\n",
       "      <td>3408.044382</td>\n",
       "      <td>1999-2000</td>\n",
       "    </tr>\n",
       "    <tr>\n",
       "      <th>2</th>\n",
       "      <td>3.0</td>\n",
       "      <td>2.0</td>\n",
       "      <td>10.0</td>\n",
       "      <td>3.0</td>\n",
       "      <td>2.0</td>\n",
       "      <td>2.0</td>\n",
       "      <td>4.0</td>\n",
       "      <td>6.0</td>\n",
       "      <td>4.0</td>\n",
       "      <td>4724.103694</td>\n",
       "      <td>1999-2000</td>\n",
       "    </tr>\n",
       "  </tbody>\n",
       "</table>\n",
       "</div>"
      ],
      "text/plain": [
       "             _id  RIAGENDR  RIDAGEYR  RIDRETH1  DMDBORN4  DMDCITZN  DMDHHSIZ  \\\n",
       "1999-2000 0  1.0       2.0       2.0       4.0       1.0       1.0       3.0   \n",
       "          1  2.0       1.0      77.0       3.0       1.0       1.0       1.0   \n",
       "          2  3.0       2.0      10.0       3.0       2.0       2.0       4.0   \n",
       "\n",
       "             INDFMINC  DMDHREDU      MEC18YR       Year  \n",
       "1999-2000 0       3.0       3.0   990.268132  1999-2000  \n",
       "          1       8.0       5.0  3408.044382  1999-2000  \n",
       "          2       6.0       4.0  4724.103694  1999-2000  "
      ]
     },
     "execution_count": 62,
     "metadata": {},
     "output_type": "execute_result"
    }
   ],
   "source": [
    "result_1999_2016_cleaned[:3]"
   ]
  },
  {
   "cell_type": "code",
   "execution_count": 63,
   "metadata": {},
   "outputs": [],
   "source": [
    "demo_dict = result_1999_2016_cleaned.to_dict(orient='records')"
   ]
  },
  {
   "cell_type": "code",
   "execution_count": 64,
   "metadata": {},
   "outputs": [
    {
     "data": {
      "text/plain": [
       "{'DMDBORN4': 1.0,\n",
       " 'DMDCITZN': 1.0,\n",
       " 'DMDHHSIZ': 3.0,\n",
       " 'DMDHREDU': 3.0,\n",
       " 'INDFMINC': 3.0,\n",
       " 'MEC18YR': 990.2681319999998,\n",
       " 'RIAGENDR': 2.0,\n",
       " 'RIDAGEYR': 2.0,\n",
       " 'RIDRETH1': 4.0,\n",
       " 'Year': '1999-2000',\n",
       " '_id': 1.0}"
      ]
     },
     "execution_count": 64,
     "metadata": {},
     "output_type": "execute_result"
    }
   ],
   "source": [
    "demo_dict[0]"
   ]
  },
  {
   "cell_type": "code",
   "execution_count": 65,
   "metadata": {},
   "outputs": [
    {
     "data": {
      "text/plain": [
       "<pymongo.results.InsertManyResult at 0x1156b4d48>"
      ]
     },
     "execution_count": 65,
     "metadata": {},
     "output_type": "execute_result"
    }
   ],
   "source": [
    "#Insert collection\n",
    "demo.insert_many(demo_dict)"
   ]
  },
  {
   "cell_type": "code",
   "execution_count": 66,
   "metadata": {
    "scrolled": true
   },
   "outputs": [
    {
     "data": {
      "text/plain": [
       "['smqfam',\n",
       " 'smq',\n",
       " 'mcq',\n",
       " 'hiq',\n",
       " 'demo',\n",
       " 'bpq',\n",
       " 'huq',\n",
       " 'paq',\n",
       " 'whq',\n",
       " 'alq',\n",
       " 'diq']"
      ]
     },
     "execution_count": 66,
     "metadata": {},
     "output_type": "execute_result"
    }
   ],
   "source": [
    "db.list_collection_names()"
   ]
  },
  {
   "cell_type": "code",
   "execution_count": 67,
   "metadata": {},
   "outputs": [],
   "source": [
    "#for d in demo.find():\n",
    "    #print(d)"
   ]
  }
 ],
 "metadata": {
  "kernelspec": {
   "display_name": "Python 3",
   "language": "python",
   "name": "python3"
  },
  "language_info": {
   "codemirror_mode": {
    "name": "ipython",
    "version": 3
   },
   "file_extension": ".py",
   "mimetype": "text/x-python",
   "name": "python",
   "nbconvert_exporter": "python",
   "pygments_lexer": "ipython3",
   "version": "3.6.8"
  }
 },
 "nbformat": 4,
 "nbformat_minor": 2
}
