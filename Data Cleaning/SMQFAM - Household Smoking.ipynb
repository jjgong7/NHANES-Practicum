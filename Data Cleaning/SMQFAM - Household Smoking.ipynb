{
 "cells": [
  {
   "cell_type": "code",
   "execution_count": 1,
   "metadata": {},
   "outputs": [],
   "source": [
    "#Import libraries\n",
    "import pandas as pd\n",
    "import numpy as np\n",
    "import matplotlib.pyplot as plt\n",
    "import glob\n",
    "import re\n",
    "from collections import defaultdict"
   ]
  },
  {
   "cell_type": "code",
   "execution_count": 2,
   "metadata": {},
   "outputs": [],
   "source": [
    "#Use one ./ if running from run_notebooks.py\n",
    "#Use two ../if running directly from Jupyter Notebooks\n",
    "#file_beg = '../NHANES-Downloader/data/csv_data/'\n",
    "\n",
    "file_beg = './NHANES-Downloader/data/csv_data/'"
   ]
  },
  {
   "cell_type": "code",
   "execution_count": 3,
   "metadata": {},
   "outputs": [],
   "source": [
    "#Import all the files\n",
    "files1 = glob.glob(file_beg+'1999-2000/*/*.csv')\n",
    "files2 = glob.glob(file_beg+'2001-2002/*/*.csv')\n",
    "files3 = glob.glob(file_beg+'2003-2004/*/*.csv')\n",
    "files4 = glob.glob(file_beg+'2005-2006/*/*.csv')\n",
    "files5 = glob.glob(file_beg+'2007-2008/*/*.csv')\n",
    "files6 = glob.glob(file_beg+'2009-2010/*/*.csv')\n",
    "files7 = glob.glob(file_beg+'2011-2012/*/*.csv')\n",
    "files8 = glob.glob(file_beg+'2013-2014/*/*.csv')\n",
    "files9 = glob.glob(file_beg+'2015-2016/*/*.csv')"
   ]
  },
  {
   "cell_type": "code",
   "execution_count": 3,
   "metadata": {},
   "outputs": [],
   "source": [
    "#Add files into a list\n",
    "file_list = [files1, files2, files3, files4, files5, \n",
    "          files6, files7, files8, files9]"
   ]
  },
  {
   "cell_type": "code",
   "execution_count": 4,
   "metadata": {},
   "outputs": [],
   "source": [
    "#Add files into a list of sorted and dictionaries\n",
    "file_list_dict = []\n",
    "for x in file_list:\n",
    "    x.sort()\n",
    "    file_list_dict.append(dict(enumerate(x)))"
   ]
  },
  {
   "cell_type": "code",
   "execution_count": 5,
   "metadata": {},
   "outputs": [],
   "source": [
    "smqfam_indx = [108, 122, 136, 125, 123, 130, 122, 143, 91]"
   ]
  },
  {
   "cell_type": "code",
   "execution_count": 6,
   "metadata": {},
   "outputs": [],
   "source": [
    "dfs = defaultdict(int)\n",
    "for i in range(0,len(smqfam_indx)):\n",
    "    dfs[i] = pd.read_csv(file_list_dict[i][smqfam_indx[i]])"
   ]
  },
  {
   "cell_type": "markdown",
   "metadata": {},
   "source": [
    "## Functions: Recategorize values, Count Values, Drop Rows"
   ]
  },
  {
   "cell_type": "code",
   "execution_count": 7,
   "metadata": {},
   "outputs": [],
   "source": [
    "#Recategorize function\n",
    "def recategorize(df, name, replace_dict):\n",
    "    df[name].replace(\n",
    "    to_replace=replace_dict,\n",
    "    inplace=True\n",
    ")\n",
    "    \n",
    "#Count values function\n",
    "def count_vals(df, name):\n",
    "    df_count = df.groupby(name)['SEQN'].nunique()\n",
    "    print(df_count,\"\\n\\n\",\"NaN: \", df[name].isnull().sum())\n",
    "    \n",
    "#Drop rows that include certain values\n",
    "def drop_rows(df, name, val_list):\n",
    "    df.drop(df[df[name].isin(val_list)].index, inplace=True)"
   ]
  },
  {
   "cell_type": "markdown",
   "metadata": {},
   "source": [
    "## Important Variables"
   ]
  },
  {
   "cell_type": "code",
   "execution_count": 8,
   "metadata": {},
   "outputs": [],
   "source": [
    "#1999-2012\n",
    "var_names = [\"SEQN\", \"SMD410\"]\n",
    "\n",
    "#2013-2016\n",
    "var_names1 = [\"SEQN\", \"SMD460\"]"
   ]
  },
  {
   "cell_type": "code",
   "execution_count": 9,
   "metadata": {},
   "outputs": [],
   "source": [
    "#To display all columns in Jupyter Notebooks\n",
    "#pd.set_option('display.max_columns', 500)"
   ]
  },
  {
   "cell_type": "markdown",
   "metadata": {},
   "source": [
    "## Round the column"
   ]
  },
  {
   "cell_type": "code",
   "execution_count": 10,
   "metadata": {},
   "outputs": [],
   "source": [
    "dfs[0]['SMD410'] = dfs[0]['SMD410'].round(0)\n",
    "dfs[1]['SMD410'] = dfs[1]['SMD410'].round(0)\n",
    "dfs[2]['SMD410'] = dfs[2]['SMD410'].round(0)\n",
    "dfs[3]['SMD410'] = dfs[3]['SMD410'].round(0)\n",
    "dfs[4]['SMD410'] = dfs[4]['SMD410'].round(0)\n",
    "dfs[5]['SMD410'] = dfs[5]['SMD410'].round(0)\n",
    "dfs[6]['SMD410'] = dfs[6]['SMD410'].round(0)\n",
    "dfs[7]['SMD460'] = dfs[7]['SMD460'].round(0)\n",
    "dfs[8]['SMD460'] = dfs[8]['SMD460'].round(0)"
   ]
  },
  {
   "cell_type": "markdown",
   "metadata": {},
   "source": [
    "## Make a copy of the dataframes"
   ]
  },
  {
   "cell_type": "code",
   "execution_count": 11,
   "metadata": {},
   "outputs": [],
   "source": [
    "#1999-2016\n",
    "df0 = dfs[0][var_names].copy() #1999-2000\n",
    "df1 = dfs[1][var_names].copy() #2001-2002\n",
    "df2 = dfs[2][var_names].copy() #2003-2004\n",
    "df3 = dfs[3][var_names].copy() #2005-2006\n",
    "df4 = dfs[4][var_names].copy() #2007-2008\n",
    "df5 = dfs[5][var_names].copy() #2009-2010\n",
    "df6 = dfs[6][var_names].copy() #2011-2012\n",
    "df7 = dfs[7][var_names1].copy() #2013-2014\n",
    "df8 = dfs[8][var_names1].copy() #2015-2016"
   ]
  },
  {
   "cell_type": "markdown",
   "metadata": {},
   "source": [
    "## Recategorize values"
   ]
  },
  {
   "cell_type": "code",
   "execution_count": 12,
   "metadata": {},
   "outputs": [],
   "source": [
    "#Recategorize SMD460 to SMD410 -> {2,3 to 1}, \n",
    "#{0 to 2}, {777 to 7}, {999 to 9}\n",
    "\n",
    "#2013-2014\n",
    "recategorize(df7, 'SMD460', {2:1, 3:1, 0:2, 777:7, 999:9})\n",
    "\n",
    "#2015-2016\n",
    "recategorize(df8, 'SMD460', {2:1, 3:1, 0:2, 777:7, 999:9})"
   ]
  },
  {
   "cell_type": "markdown",
   "metadata": {},
   "source": [
    "## Rename columns 2013 - 2016"
   ]
  },
  {
   "cell_type": "code",
   "execution_count": 13,
   "metadata": {},
   "outputs": [],
   "source": [
    "#Col names\n",
    "col_names = var_names"
   ]
  },
  {
   "cell_type": "code",
   "execution_count": 14,
   "metadata": {},
   "outputs": [],
   "source": [
    "#2013 - 2016\n",
    "df7.columns = col_names\n",
    "df8.columns = col_names"
   ]
  },
  {
   "cell_type": "markdown",
   "metadata": {},
   "source": [
    "## Append years 1999 - 2016"
   ]
  },
  {
   "cell_type": "code",
   "execution_count": 15,
   "metadata": {},
   "outputs": [],
   "source": [
    "years = [\"1999-2000\",\"2001-2002\",\"2003-2004\",\"2005-2006\",\"2007-2008\", \n",
    "        \"2009-2010\",\"2011-2012\",\"2013-2014\",\"2015-2016\"]"
   ]
  },
  {
   "cell_type": "code",
   "execution_count": 16,
   "metadata": {},
   "outputs": [],
   "source": [
    "frames = [df0, df1, df2, df3, df4, df5, df6, df7, df8]"
   ]
  },
  {
   "cell_type": "code",
   "execution_count": 17,
   "metadata": {},
   "outputs": [],
   "source": [
    "#Add years as a column\n",
    "for i, df in enumerate(frames):\n",
    "    df[\"Year\"] = years[i]"
   ]
  },
  {
   "cell_type": "code",
   "execution_count": 18,
   "metadata": {},
   "outputs": [],
   "source": [
    "result_1999_2016 = pd.concat(frames, keys = years)"
   ]
  },
  {
   "cell_type": "code",
   "execution_count": 19,
   "metadata": {},
   "outputs": [],
   "source": [
    "result_1999_2016_cleaned = result_1999_2016.copy()"
   ]
  },
  {
   "cell_type": "markdown",
   "metadata": {},
   "source": [
    "## Count values for each column"
   ]
  },
  {
   "cell_type": "code",
   "execution_count": 20,
   "metadata": {},
   "outputs": [
    {
     "data": {
      "text/html": [
       "<div>\n",
       "<style>\n",
       "    .dataframe thead tr:only-child th {\n",
       "        text-align: right;\n",
       "    }\n",
       "\n",
       "    .dataframe thead th {\n",
       "        text-align: left;\n",
       "    }\n",
       "\n",
       "    .dataframe tbody tr th {\n",
       "        vertical-align: top;\n",
       "    }\n",
       "</style>\n",
       "<table border=\"1\" class=\"dataframe\">\n",
       "  <thead>\n",
       "    <tr style=\"text-align: right;\">\n",
       "      <th></th>\n",
       "      <th></th>\n",
       "      <th>SEQN</th>\n",
       "      <th>SMD410</th>\n",
       "      <th>Year</th>\n",
       "    </tr>\n",
       "  </thead>\n",
       "  <tbody>\n",
       "    <tr>\n",
       "      <th rowspan=\"30\" valign=\"top\">1999-2000</th>\n",
       "      <th>0</th>\n",
       "      <td>1.0</td>\n",
       "      <td>2.0</td>\n",
       "      <td>1999-2000</td>\n",
       "    </tr>\n",
       "    <tr>\n",
       "      <th>1</th>\n",
       "      <td>2.0</td>\n",
       "      <td>2.0</td>\n",
       "      <td>1999-2000</td>\n",
       "    </tr>\n",
       "    <tr>\n",
       "      <th>2</th>\n",
       "      <td>3.0</td>\n",
       "      <td>1.0</td>\n",
       "      <td>1999-2000</td>\n",
       "    </tr>\n",
       "    <tr>\n",
       "      <th>3</th>\n",
       "      <td>4.0</td>\n",
       "      <td>2.0</td>\n",
       "      <td>1999-2000</td>\n",
       "    </tr>\n",
       "    <tr>\n",
       "      <th>4</th>\n",
       "      <td>5.0</td>\n",
       "      <td>2.0</td>\n",
       "      <td>1999-2000</td>\n",
       "    </tr>\n",
       "    <tr>\n",
       "      <th>5</th>\n",
       "      <td>6.0</td>\n",
       "      <td>2.0</td>\n",
       "      <td>1999-2000</td>\n",
       "    </tr>\n",
       "    <tr>\n",
       "      <th>6</th>\n",
       "      <td>7.0</td>\n",
       "      <td>NaN</td>\n",
       "      <td>1999-2000</td>\n",
       "    </tr>\n",
       "    <tr>\n",
       "      <th>7</th>\n",
       "      <td>8.0</td>\n",
       "      <td>1.0</td>\n",
       "      <td>1999-2000</td>\n",
       "    </tr>\n",
       "    <tr>\n",
       "      <th>8</th>\n",
       "      <td>9.0</td>\n",
       "      <td>2.0</td>\n",
       "      <td>1999-2000</td>\n",
       "    </tr>\n",
       "    <tr>\n",
       "      <th>9</th>\n",
       "      <td>10.0</td>\n",
       "      <td>1.0</td>\n",
       "      <td>1999-2000</td>\n",
       "    </tr>\n",
       "    <tr>\n",
       "      <th>10</th>\n",
       "      <td>11.0</td>\n",
       "      <td>2.0</td>\n",
       "      <td>1999-2000</td>\n",
       "    </tr>\n",
       "    <tr>\n",
       "      <th>11</th>\n",
       "      <td>12.0</td>\n",
       "      <td>2.0</td>\n",
       "      <td>1999-2000</td>\n",
       "    </tr>\n",
       "    <tr>\n",
       "      <th>12</th>\n",
       "      <td>13.0</td>\n",
       "      <td>2.0</td>\n",
       "      <td>1999-2000</td>\n",
       "    </tr>\n",
       "    <tr>\n",
       "      <th>13</th>\n",
       "      <td>14.0</td>\n",
       "      <td>1.0</td>\n",
       "      <td>1999-2000</td>\n",
       "    </tr>\n",
       "    <tr>\n",
       "      <th>14</th>\n",
       "      <td>15.0</td>\n",
       "      <td>1.0</td>\n",
       "      <td>1999-2000</td>\n",
       "    </tr>\n",
       "    <tr>\n",
       "      <th>15</th>\n",
       "      <td>16.0</td>\n",
       "      <td>2.0</td>\n",
       "      <td>1999-2000</td>\n",
       "    </tr>\n",
       "    <tr>\n",
       "      <th>16</th>\n",
       "      <td>17.0</td>\n",
       "      <td>2.0</td>\n",
       "      <td>1999-2000</td>\n",
       "    </tr>\n",
       "    <tr>\n",
       "      <th>17</th>\n",
       "      <td>18.0</td>\n",
       "      <td>2.0</td>\n",
       "      <td>1999-2000</td>\n",
       "    </tr>\n",
       "    <tr>\n",
       "      <th>18</th>\n",
       "      <td>19.0</td>\n",
       "      <td>2.0</td>\n",
       "      <td>1999-2000</td>\n",
       "    </tr>\n",
       "    <tr>\n",
       "      <th>19</th>\n",
       "      <td>20.0</td>\n",
       "      <td>2.0</td>\n",
       "      <td>1999-2000</td>\n",
       "    </tr>\n",
       "    <tr>\n",
       "      <th>20</th>\n",
       "      <td>21.0</td>\n",
       "      <td>2.0</td>\n",
       "      <td>1999-2000</td>\n",
       "    </tr>\n",
       "    <tr>\n",
       "      <th>21</th>\n",
       "      <td>22.0</td>\n",
       "      <td>2.0</td>\n",
       "      <td>1999-2000</td>\n",
       "    </tr>\n",
       "    <tr>\n",
       "      <th>22</th>\n",
       "      <td>23.0</td>\n",
       "      <td>2.0</td>\n",
       "      <td>1999-2000</td>\n",
       "    </tr>\n",
       "    <tr>\n",
       "      <th>23</th>\n",
       "      <td>24.0</td>\n",
       "      <td>1.0</td>\n",
       "      <td>1999-2000</td>\n",
       "    </tr>\n",
       "    <tr>\n",
       "      <th>24</th>\n",
       "      <td>25.0</td>\n",
       "      <td>2.0</td>\n",
       "      <td>1999-2000</td>\n",
       "    </tr>\n",
       "    <tr>\n",
       "      <th>25</th>\n",
       "      <td>26.0</td>\n",
       "      <td>2.0</td>\n",
       "      <td>1999-2000</td>\n",
       "    </tr>\n",
       "    <tr>\n",
       "      <th>26</th>\n",
       "      <td>27.0</td>\n",
       "      <td>2.0</td>\n",
       "      <td>1999-2000</td>\n",
       "    </tr>\n",
       "    <tr>\n",
       "      <th>27</th>\n",
       "      <td>28.0</td>\n",
       "      <td>2.0</td>\n",
       "      <td>1999-2000</td>\n",
       "    </tr>\n",
       "    <tr>\n",
       "      <th>28</th>\n",
       "      <td>29.0</td>\n",
       "      <td>2.0</td>\n",
       "      <td>1999-2000</td>\n",
       "    </tr>\n",
       "    <tr>\n",
       "      <th>29</th>\n",
       "      <td>30.0</td>\n",
       "      <td>2.0</td>\n",
       "      <td>1999-2000</td>\n",
       "    </tr>\n",
       "    <tr>\n",
       "      <th>...</th>\n",
       "      <th>...</th>\n",
       "      <td>...</td>\n",
       "      <td>...</td>\n",
       "      <td>...</td>\n",
       "    </tr>\n",
       "    <tr>\n",
       "      <th rowspan=\"30\" valign=\"top\">2015-2016</th>\n",
       "      <th>9941</th>\n",
       "      <td>93673.0</td>\n",
       "      <td>1.0</td>\n",
       "      <td>2015-2016</td>\n",
       "    </tr>\n",
       "    <tr>\n",
       "      <th>9942</th>\n",
       "      <td>93674.0</td>\n",
       "      <td>2.0</td>\n",
       "      <td>2015-2016</td>\n",
       "    </tr>\n",
       "    <tr>\n",
       "      <th>9943</th>\n",
       "      <td>93675.0</td>\n",
       "      <td>2.0</td>\n",
       "      <td>2015-2016</td>\n",
       "    </tr>\n",
       "    <tr>\n",
       "      <th>9944</th>\n",
       "      <td>93676.0</td>\n",
       "      <td>2.0</td>\n",
       "      <td>2015-2016</td>\n",
       "    </tr>\n",
       "    <tr>\n",
       "      <th>9945</th>\n",
       "      <td>93677.0</td>\n",
       "      <td>2.0</td>\n",
       "      <td>2015-2016</td>\n",
       "    </tr>\n",
       "    <tr>\n",
       "      <th>9946</th>\n",
       "      <td>93678.0</td>\n",
       "      <td>2.0</td>\n",
       "      <td>2015-2016</td>\n",
       "    </tr>\n",
       "    <tr>\n",
       "      <th>9947</th>\n",
       "      <td>93679.0</td>\n",
       "      <td>1.0</td>\n",
       "      <td>2015-2016</td>\n",
       "    </tr>\n",
       "    <tr>\n",
       "      <th>9948</th>\n",
       "      <td>93680.0</td>\n",
       "      <td>2.0</td>\n",
       "      <td>2015-2016</td>\n",
       "    </tr>\n",
       "    <tr>\n",
       "      <th>9949</th>\n",
       "      <td>93681.0</td>\n",
       "      <td>2.0</td>\n",
       "      <td>2015-2016</td>\n",
       "    </tr>\n",
       "    <tr>\n",
       "      <th>9950</th>\n",
       "      <td>93682.0</td>\n",
       "      <td>2.0</td>\n",
       "      <td>2015-2016</td>\n",
       "    </tr>\n",
       "    <tr>\n",
       "      <th>9951</th>\n",
       "      <td>93683.0</td>\n",
       "      <td>2.0</td>\n",
       "      <td>2015-2016</td>\n",
       "    </tr>\n",
       "    <tr>\n",
       "      <th>9952</th>\n",
       "      <td>93684.0</td>\n",
       "      <td>2.0</td>\n",
       "      <td>2015-2016</td>\n",
       "    </tr>\n",
       "    <tr>\n",
       "      <th>9953</th>\n",
       "      <td>93685.0</td>\n",
       "      <td>2.0</td>\n",
       "      <td>2015-2016</td>\n",
       "    </tr>\n",
       "    <tr>\n",
       "      <th>9954</th>\n",
       "      <td>93686.0</td>\n",
       "      <td>1.0</td>\n",
       "      <td>2015-2016</td>\n",
       "    </tr>\n",
       "    <tr>\n",
       "      <th>9955</th>\n",
       "      <td>93687.0</td>\n",
       "      <td>2.0</td>\n",
       "      <td>2015-2016</td>\n",
       "    </tr>\n",
       "    <tr>\n",
       "      <th>9956</th>\n",
       "      <td>93688.0</td>\n",
       "      <td>1.0</td>\n",
       "      <td>2015-2016</td>\n",
       "    </tr>\n",
       "    <tr>\n",
       "      <th>9957</th>\n",
       "      <td>93689.0</td>\n",
       "      <td>2.0</td>\n",
       "      <td>2015-2016</td>\n",
       "    </tr>\n",
       "    <tr>\n",
       "      <th>9958</th>\n",
       "      <td>93690.0</td>\n",
       "      <td>2.0</td>\n",
       "      <td>2015-2016</td>\n",
       "    </tr>\n",
       "    <tr>\n",
       "      <th>9959</th>\n",
       "      <td>93691.0</td>\n",
       "      <td>2.0</td>\n",
       "      <td>2015-2016</td>\n",
       "    </tr>\n",
       "    <tr>\n",
       "      <th>9960</th>\n",
       "      <td>93692.0</td>\n",
       "      <td>1.0</td>\n",
       "      <td>2015-2016</td>\n",
       "    </tr>\n",
       "    <tr>\n",
       "      <th>9961</th>\n",
       "      <td>93693.0</td>\n",
       "      <td>1.0</td>\n",
       "      <td>2015-2016</td>\n",
       "    </tr>\n",
       "    <tr>\n",
       "      <th>9962</th>\n",
       "      <td>93694.0</td>\n",
       "      <td>2.0</td>\n",
       "      <td>2015-2016</td>\n",
       "    </tr>\n",
       "    <tr>\n",
       "      <th>9963</th>\n",
       "      <td>93695.0</td>\n",
       "      <td>2.0</td>\n",
       "      <td>2015-2016</td>\n",
       "    </tr>\n",
       "    <tr>\n",
       "      <th>9964</th>\n",
       "      <td>93696.0</td>\n",
       "      <td>2.0</td>\n",
       "      <td>2015-2016</td>\n",
       "    </tr>\n",
       "    <tr>\n",
       "      <th>9965</th>\n",
       "      <td>93697.0</td>\n",
       "      <td>2.0</td>\n",
       "      <td>2015-2016</td>\n",
       "    </tr>\n",
       "    <tr>\n",
       "      <th>9966</th>\n",
       "      <td>93698.0</td>\n",
       "      <td>2.0</td>\n",
       "      <td>2015-2016</td>\n",
       "    </tr>\n",
       "    <tr>\n",
       "      <th>9967</th>\n",
       "      <td>93699.0</td>\n",
       "      <td>2.0</td>\n",
       "      <td>2015-2016</td>\n",
       "    </tr>\n",
       "    <tr>\n",
       "      <th>9968</th>\n",
       "      <td>93700.0</td>\n",
       "      <td>1.0</td>\n",
       "      <td>2015-2016</td>\n",
       "    </tr>\n",
       "    <tr>\n",
       "      <th>9969</th>\n",
       "      <td>93701.0</td>\n",
       "      <td>2.0</td>\n",
       "      <td>2015-2016</td>\n",
       "    </tr>\n",
       "    <tr>\n",
       "      <th>9970</th>\n",
       "      <td>93702.0</td>\n",
       "      <td>2.0</td>\n",
       "      <td>2015-2016</td>\n",
       "    </tr>\n",
       "  </tbody>\n",
       "</table>\n",
       "<p>92062 rows × 3 columns</p>\n",
       "</div>"
      ],
      "text/plain": [
       "                   SEQN  SMD410       Year\n",
       "1999-2000 0         1.0     2.0  1999-2000\n",
       "          1         2.0     2.0  1999-2000\n",
       "          2         3.0     1.0  1999-2000\n",
       "          3         4.0     2.0  1999-2000\n",
       "          4         5.0     2.0  1999-2000\n",
       "          5         6.0     2.0  1999-2000\n",
       "          6         7.0     NaN  1999-2000\n",
       "          7         8.0     1.0  1999-2000\n",
       "          8         9.0     2.0  1999-2000\n",
       "          9        10.0     1.0  1999-2000\n",
       "          10       11.0     2.0  1999-2000\n",
       "          11       12.0     2.0  1999-2000\n",
       "          12       13.0     2.0  1999-2000\n",
       "          13       14.0     1.0  1999-2000\n",
       "          14       15.0     1.0  1999-2000\n",
       "          15       16.0     2.0  1999-2000\n",
       "          16       17.0     2.0  1999-2000\n",
       "          17       18.0     2.0  1999-2000\n",
       "          18       19.0     2.0  1999-2000\n",
       "          19       20.0     2.0  1999-2000\n",
       "          20       21.0     2.0  1999-2000\n",
       "          21       22.0     2.0  1999-2000\n",
       "          22       23.0     2.0  1999-2000\n",
       "          23       24.0     1.0  1999-2000\n",
       "          24       25.0     2.0  1999-2000\n",
       "          25       26.0     2.0  1999-2000\n",
       "          26       27.0     2.0  1999-2000\n",
       "          27       28.0     2.0  1999-2000\n",
       "          28       29.0     2.0  1999-2000\n",
       "          29       30.0     2.0  1999-2000\n",
       "...                 ...     ...        ...\n",
       "2015-2016 9941  93673.0     1.0  2015-2016\n",
       "          9942  93674.0     2.0  2015-2016\n",
       "          9943  93675.0     2.0  2015-2016\n",
       "          9944  93676.0     2.0  2015-2016\n",
       "          9945  93677.0     2.0  2015-2016\n",
       "          9946  93678.0     2.0  2015-2016\n",
       "          9947  93679.0     1.0  2015-2016\n",
       "          9948  93680.0     2.0  2015-2016\n",
       "          9949  93681.0     2.0  2015-2016\n",
       "          9950  93682.0     2.0  2015-2016\n",
       "          9951  93683.0     2.0  2015-2016\n",
       "          9952  93684.0     2.0  2015-2016\n",
       "          9953  93685.0     2.0  2015-2016\n",
       "          9954  93686.0     1.0  2015-2016\n",
       "          9955  93687.0     2.0  2015-2016\n",
       "          9956  93688.0     1.0  2015-2016\n",
       "          9957  93689.0     2.0  2015-2016\n",
       "          9958  93690.0     2.0  2015-2016\n",
       "          9959  93691.0     2.0  2015-2016\n",
       "          9960  93692.0     1.0  2015-2016\n",
       "          9961  93693.0     1.0  2015-2016\n",
       "          9962  93694.0     2.0  2015-2016\n",
       "          9963  93695.0     2.0  2015-2016\n",
       "          9964  93696.0     2.0  2015-2016\n",
       "          9965  93697.0     2.0  2015-2016\n",
       "          9966  93698.0     2.0  2015-2016\n",
       "          9967  93699.0     2.0  2015-2016\n",
       "          9968  93700.0     1.0  2015-2016\n",
       "          9969  93701.0     2.0  2015-2016\n",
       "          9970  93702.0     2.0  2015-2016\n",
       "\n",
       "[92062 rows x 3 columns]"
      ]
     },
     "execution_count": 20,
     "metadata": {},
     "output_type": "execute_result"
    }
   ],
   "source": [
    "result_1999_2016_cleaned"
   ]
  },
  {
   "cell_type": "code",
   "execution_count": 21,
   "metadata": {},
   "outputs": [
    {
     "data": {
      "text/plain": [
       "2"
      ]
     },
     "execution_count": 21,
     "metadata": {},
     "output_type": "execute_result"
    }
   ],
   "source": [
    "len(col_names)"
   ]
  },
  {
   "cell_type": "code",
   "execution_count": 22,
   "metadata": {},
   "outputs": [
    {
     "name": "stdout",
     "output_type": "stream",
     "text": [
      "SMD410\n",
      "1.0    17846\n",
      "2.0    72979\n",
      "7.0       22\n",
      "9.0       15\n",
      "Name: SEQN, dtype: int64 \n",
      "\n",
      " NaN:  1200\n"
     ]
    }
   ],
   "source": [
    "#SMD410 - Does anyone smoke in the home\n",
    "count_vals(result_1999_2016_cleaned, col_names[1])"
   ]
  },
  {
   "cell_type": "code",
   "execution_count": 23,
   "metadata": {},
   "outputs": [
    {
     "data": {
      "text/html": [
       "<div>\n",
       "<style>\n",
       "    .dataframe thead tr:only-child th {\n",
       "        text-align: right;\n",
       "    }\n",
       "\n",
       "    .dataframe thead th {\n",
       "        text-align: left;\n",
       "    }\n",
       "\n",
       "    .dataframe tbody tr th {\n",
       "        vertical-align: top;\n",
       "    }\n",
       "</style>\n",
       "<table border=\"1\" class=\"dataframe\">\n",
       "  <thead>\n",
       "    <tr style=\"text-align: right;\">\n",
       "      <th></th>\n",
       "      <th></th>\n",
       "      <th>SEQN</th>\n",
       "      <th>SMD410</th>\n",
       "      <th>Year</th>\n",
       "    </tr>\n",
       "  </thead>\n",
       "  <tbody>\n",
       "    <tr>\n",
       "      <th>1999-2000</th>\n",
       "      <th>0</th>\n",
       "      <td>1.0</td>\n",
       "      <td>2.0</td>\n",
       "      <td>1999-2000</td>\n",
       "    </tr>\n",
       "  </tbody>\n",
       "</table>\n",
       "</div>"
      ],
      "text/plain": [
       "             SEQN  SMD410       Year\n",
       "1999-2000 0   1.0     2.0  1999-2000"
      ]
     },
     "execution_count": 23,
     "metadata": {},
     "output_type": "execute_result"
    }
   ],
   "source": [
    "result_1999_2016[:1]"
   ]
  },
  {
   "cell_type": "code",
   "execution_count": 24,
   "metadata": {},
   "outputs": [
    {
     "data": {
      "text/plain": [
       "92062"
      ]
     },
     "execution_count": 24,
     "metadata": {},
     "output_type": "execute_result"
    }
   ],
   "source": [
    "len(result_1999_2016)"
   ]
  },
  {
   "cell_type": "markdown",
   "metadata": {},
   "source": [
    "## Remove missing values:"
   ]
  },
  {
   "cell_type": "code",
   "execution_count": 25,
   "metadata": {},
   "outputs": [],
   "source": [
    "drop_rows(result_1999_2016_cleaned, col_names[1], [np.nan, 7, 9])"
   ]
  },
  {
   "cell_type": "markdown",
   "metadata": {},
   "source": [
    "## See if missing values have been correctly removed:"
   ]
  },
  {
   "cell_type": "code",
   "execution_count": 26,
   "metadata": {
    "scrolled": true
   },
   "outputs": [
    {
     "name": "stdout",
     "output_type": "stream",
     "text": [
      "SMD410\n",
      "1.0    17846\n",
      "2.0    72979\n",
      "Name: SEQN, dtype: int64 \n",
      "\n",
      " NaN:  0\n"
     ]
    }
   ],
   "source": [
    "count_vals(result_1999_2016_cleaned, col_names[1])"
   ]
  },
  {
   "cell_type": "code",
   "execution_count": 27,
   "metadata": {},
   "outputs": [
    {
     "data": {
      "text/plain": [
       "92062"
      ]
     },
     "execution_count": 27,
     "metadata": {},
     "output_type": "execute_result"
    }
   ],
   "source": [
    "before = len(result_1999_2016)\n",
    "before"
   ]
  },
  {
   "cell_type": "code",
   "execution_count": 28,
   "metadata": {},
   "outputs": [
    {
     "data": {
      "text/plain": [
       "90825"
      ]
     },
     "execution_count": 28,
     "metadata": {},
     "output_type": "execute_result"
    }
   ],
   "source": [
    "after = len(result_1999_2016_cleaned)\n",
    "after"
   ]
  },
  {
   "cell_type": "code",
   "execution_count": 29,
   "metadata": {},
   "outputs": [
    {
     "data": {
      "text/plain": [
       "0.01361959812826865"
      ]
     },
     "execution_count": 29,
     "metadata": {},
     "output_type": "execute_result"
    }
   ],
   "source": [
    "(before-after)/after"
   ]
  },
  {
   "cell_type": "markdown",
   "metadata": {},
   "source": [
    "## MongoDB Insertion"
   ]
  },
  {
   "cell_type": "code",
   "execution_count": 30,
   "metadata": {},
   "outputs": [],
   "source": [
    "#Import MongoClient\n",
    "from pymongo import MongoClient\n",
    "\n",
    "#Create a MongoClient to run the MongoDB instance\n",
    "client = MongoClient('localhost', 27017)"
   ]
  },
  {
   "cell_type": "code",
   "execution_count": 31,
   "metadata": {},
   "outputs": [],
   "source": [
    "#Connect to existing datbase\n",
    "db = client.NHANES"
   ]
  },
  {
   "cell_type": "code",
   "execution_count": 32,
   "metadata": {},
   "outputs": [
    {
     "data": {
      "text/plain": [
       "Database(MongoClient(host=['localhost:27017'], document_class=dict, tz_aware=False, connect=True), 'NHANES')"
      ]
     },
     "execution_count": 32,
     "metadata": {},
     "output_type": "execute_result"
    }
   ],
   "source": [
    "db"
   ]
  },
  {
   "cell_type": "code",
   "execution_count": 33,
   "metadata": {},
   "outputs": [
    {
     "data": {
      "text/plain": [
       "['smqfam',\n",
       " 'smq',\n",
       " 'mcq',\n",
       " 'hiq',\n",
       " 'demo',\n",
       " 'bpq',\n",
       " 'huq',\n",
       " 'paq',\n",
       " 'whq',\n",
       " 'alq',\n",
       " 'diq']"
      ]
     },
     "execution_count": 33,
     "metadata": {},
     "output_type": "execute_result"
    }
   ],
   "source": [
    "db.list_collection_names()"
   ]
  },
  {
   "cell_type": "code",
   "execution_count": 34,
   "metadata": {},
   "outputs": [],
   "source": [
    "#Create collection in database\n",
    "smqfam = db.smqfam"
   ]
  },
  {
   "cell_type": "code",
   "execution_count": 35,
   "metadata": {},
   "outputs": [],
   "source": [
    "#If collections exist, then drop\n",
    "if 'smqfam' in db.list_collection_names():\n",
    "    smqfam.drop()\n",
    "    db.list_collection_names()\n",
    "else:\n",
    "    print(\"Collections doesn't exist yet\")"
   ]
  },
  {
   "cell_type": "markdown",
   "metadata": {},
   "source": [
    "## Create new collection to input into database"
   ]
  },
  {
   "cell_type": "code",
   "execution_count": 36,
   "metadata": {},
   "outputs": [
    {
     "data": {
      "text/html": [
       "<div>\n",
       "<style>\n",
       "    .dataframe thead tr:only-child th {\n",
       "        text-align: right;\n",
       "    }\n",
       "\n",
       "    .dataframe thead th {\n",
       "        text-align: left;\n",
       "    }\n",
       "\n",
       "    .dataframe tbody tr th {\n",
       "        vertical-align: top;\n",
       "    }\n",
       "</style>\n",
       "<table border=\"1\" class=\"dataframe\">\n",
       "  <thead>\n",
       "    <tr style=\"text-align: right;\">\n",
       "      <th></th>\n",
       "      <th></th>\n",
       "      <th>SEQN</th>\n",
       "      <th>SMD410</th>\n",
       "      <th>Year</th>\n",
       "    </tr>\n",
       "  </thead>\n",
       "  <tbody>\n",
       "    <tr>\n",
       "      <th rowspan=\"3\" valign=\"top\">1999-2000</th>\n",
       "      <th>0</th>\n",
       "      <td>1.0</td>\n",
       "      <td>2.0</td>\n",
       "      <td>1999-2000</td>\n",
       "    </tr>\n",
       "    <tr>\n",
       "      <th>1</th>\n",
       "      <td>2.0</td>\n",
       "      <td>2.0</td>\n",
       "      <td>1999-2000</td>\n",
       "    </tr>\n",
       "    <tr>\n",
       "      <th>2</th>\n",
       "      <td>3.0</td>\n",
       "      <td>1.0</td>\n",
       "      <td>1999-2000</td>\n",
       "    </tr>\n",
       "  </tbody>\n",
       "</table>\n",
       "</div>"
      ],
      "text/plain": [
       "             SEQN  SMD410       Year\n",
       "1999-2000 0   1.0     2.0  1999-2000\n",
       "          1   2.0     2.0  1999-2000\n",
       "          2   3.0     1.0  1999-2000"
      ]
     },
     "execution_count": 36,
     "metadata": {},
     "output_type": "execute_result"
    }
   ],
   "source": [
    "result_1999_2016_cleaned[:3]"
   ]
  },
  {
   "cell_type": "code",
   "execution_count": 37,
   "metadata": {},
   "outputs": [],
   "source": [
    "#Set SEQN as _id (Primary Key)\n",
    "result_1999_2016_cleaned.rename(columns={'SEQN':'_id'}, inplace=True)"
   ]
  },
  {
   "cell_type": "code",
   "execution_count": 38,
   "metadata": {},
   "outputs": [],
   "source": [
    "#Dataframe to dictionary\n",
    "smqfam_dict = result_1999_2016_cleaned.to_dict(orient='records')"
   ]
  },
  {
   "cell_type": "code",
   "execution_count": 39,
   "metadata": {},
   "outputs": [
    {
     "data": {
      "text/plain": [
       "{'SMD410': 2.0, 'Year': '1999-2000', '_id': 1.0}"
      ]
     },
     "execution_count": 39,
     "metadata": {},
     "output_type": "execute_result"
    }
   ],
   "source": [
    "smqfam_dict[0]"
   ]
  },
  {
   "cell_type": "code",
   "execution_count": 40,
   "metadata": {
    "scrolled": true
   },
   "outputs": [
    {
     "data": {
      "text/plain": [
       "<pymongo.results.InsertManyResult at 0x11c4f0e48>"
      ]
     },
     "execution_count": 40,
     "metadata": {},
     "output_type": "execute_result"
    }
   ],
   "source": [
    "#Insert collection \n",
    "smqfam.insert_many(smqfam_dict)"
   ]
  },
  {
   "cell_type": "code",
   "execution_count": 41,
   "metadata": {
    "scrolled": true
   },
   "outputs": [
    {
     "data": {
      "text/plain": [
       "['smqfam',\n",
       " 'smq',\n",
       " 'mcq',\n",
       " 'hiq',\n",
       " 'demo',\n",
       " 'bpq',\n",
       " 'huq',\n",
       " 'paq',\n",
       " 'whq',\n",
       " 'alq',\n",
       " 'diq']"
      ]
     },
     "execution_count": 41,
     "metadata": {},
     "output_type": "execute_result"
    }
   ],
   "source": [
    "#View collections\n",
    "db.list_collection_names()"
   ]
  },
  {
   "cell_type": "code",
   "execution_count": 42,
   "metadata": {},
   "outputs": [
    {
     "name": "stderr",
     "output_type": "stream",
     "text": [
      "/Users/changzhoug/anaconda/lib/python3.6/site-packages/ipykernel_launcher.py:1: DeprecationWarning: count is deprecated. Use estimated_document_count or count_documents instead. Please note that $where must be replaced by $expr, $near must be replaced by $geoWithin with $center, and $nearSphere must be replaced by $geoWithin with $centerSphere\n",
      "  \"\"\"Entry point for launching an IPython kernel.\n"
     ]
    },
    {
     "data": {
      "text/plain": [
       "90825"
      ]
     },
     "execution_count": 42,
     "metadata": {},
     "output_type": "execute_result"
    }
   ],
   "source": [
    "db.smqfam.count() #90825"
   ]
  },
  {
   "cell_type": "code",
   "execution_count": 43,
   "metadata": {},
   "outputs": [],
   "source": [
    "# for s in smqfam.find():\n",
    "#     print(s)"
   ]
  }
 ],
 "metadata": {
  "kernelspec": {
   "display_name": "Python 3",
   "language": "python",
   "name": "python3"
  },
  "language_info": {
   "codemirror_mode": {
    "name": "ipython",
    "version": 3
   },
   "file_extension": ".py",
   "mimetype": "text/x-python",
   "name": "python",
   "nbconvert_exporter": "python",
   "pygments_lexer": "ipython3",
   "version": "3.6.8"
  }
 },
 "nbformat": 4,
 "nbformat_minor": 2
}
