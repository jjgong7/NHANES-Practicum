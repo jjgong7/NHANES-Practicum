{
 "cells": [
  {
   "cell_type": "code",
   "execution_count": 1,
   "metadata": {},
   "outputs": [],
   "source": [
    "#Import libraries\n",
    "import pandas as pd\n",
    "import numpy as np\n",
    "import matplotlib.pyplot as plt\n",
    "import glob\n",
    "import re\n",
    "from collections import defaultdict"
   ]
  },
  {
   "cell_type": "code",
   "execution_count": 2,
   "metadata": {},
   "outputs": [],
   "source": [
    "#Use one ./ if running from run_notebooks.py\n",
    "#Use two ../if running directly from Jupyter Notebooks\n",
    "#file_beg = '../NHANES-Downloader/data/csv_data/'\n",
    "\n",
    "file_beg = './NHANES-Downloader/data/csv_data/'"
   ]
  },
  {
   "cell_type": "code",
   "execution_count": 3,
   "metadata": {},
   "outputs": [],
   "source": [
    "#Import all the files\n",
    "files1 = glob.glob(file_beg+'1999-2000/*/*.csv')\n",
    "files2 = glob.glob(file_beg+'2001-2002/*/*.csv')\n",
    "files3 = glob.glob(file_beg+'2003-2004/*/*.csv')\n",
    "files4 = glob.glob(file_beg+'2005-2006/*/*.csv')\n",
    "files5 = glob.glob(file_beg+'2007-2008/*/*.csv')\n",
    "files6 = glob.glob(file_beg+'2009-2010/*/*.csv')\n",
    "files7 = glob.glob(file_beg+'2011-2012/*/*.csv')\n",
    "files8 = glob.glob(file_beg+'2013-2014/*/*.csv')\n",
    "files9 = glob.glob(file_beg+'2015-2016/*/*.csv')"
   ]
  },
  {
   "cell_type": "code",
   "execution_count": 3,
   "metadata": {},
   "outputs": [],
   "source": [
    "#Add files into a list\n",
    "file_list = [files1, files2, files3, files4, files5, \n",
    "          files6, files7, files8, files9]"
   ]
  },
  {
   "cell_type": "code",
   "execution_count": 4,
   "metadata": {},
   "outputs": [],
   "source": [
    "#Add files into a list of sorted and dictionaries\n",
    "file_list_dict = []\n",
    "for x in file_list:\n",
    "    x.sort()\n",
    "    file_list_dict.append(dict(enumerate(x)))"
   ]
  },
  {
   "cell_type": "code",
   "execution_count": 5,
   "metadata": {},
   "outputs": [],
   "source": [
    "whq_indx = [114, 128, 142, 132, 130, 136, 129, 150, 97]"
   ]
  },
  {
   "cell_type": "code",
   "execution_count": 6,
   "metadata": {},
   "outputs": [],
   "source": [
    "dfs = defaultdict(int)\n",
    "for i in range(0,len(whq_indx)):\n",
    "    dfs[i] = pd.read_csv(file_list_dict[i][whq_indx[i]])"
   ]
  },
  {
   "cell_type": "markdown",
   "metadata": {},
   "source": [
    "## Functions: Recategorize values, Count Values, Drop Rows"
   ]
  },
  {
   "cell_type": "code",
   "execution_count": 7,
   "metadata": {},
   "outputs": [],
   "source": [
    "#Recategorize function\n",
    "def recategorize(df, name, replace_dict):\n",
    "    df[name].replace(\n",
    "    to_replace=replace_dict,\n",
    "    inplace=True\n",
    ")\n",
    "    \n",
    "#Count values function\n",
    "def count_vals(df, name):\n",
    "    df_count = df.groupby(name)['SEQN'].nunique()\n",
    "    print(df_count,\"\\n\\n\",\"NaN: \", df[name].isnull().sum())\n",
    "    \n",
    "#Drop rows that include certain values\n",
    "def drop_rows(df, name, val_list):\n",
    "    df.drop(df[df[name].isin(val_list)].index, inplace=True)"
   ]
  },
  {
   "cell_type": "markdown",
   "metadata": {},
   "source": [
    "## Important Variables"
   ]
  },
  {
   "cell_type": "code",
   "execution_count": 8,
   "metadata": {},
   "outputs": [],
   "source": [
    "#1999-2000\n",
    "var_names = [\"SEQN\", \"WHD010\", \"WHD020\", \"WHQ030\", \"WHD040\"]\n",
    "\n",
    "#2001-2016\n",
    "var_names1 = [\"SEQN\", \"WHD010\", \"WHD020\", \"WHQ030\", \"WHQ040\"]"
   ]
  },
  {
   "cell_type": "code",
   "execution_count": 9,
   "metadata": {},
   "outputs": [],
   "source": [
    "#To display all columns in Jupyter Notebooks\n",
    "#pd.set_option('display.max_columns', 500)"
   ]
  },
  {
   "cell_type": "markdown",
   "metadata": {},
   "source": [
    "## Round the column"
   ]
  },
  {
   "cell_type": "code",
   "execution_count": 10,
   "metadata": {},
   "outputs": [],
   "source": [
    "# dfs[0]['SMD410'] = dfs[0]['SMD410'].round(0)\n",
    "# dfs[1]['SMD410'] = dfs[1]['SMD410'].round(0)\n",
    "# dfs[2]['SMD410'] = dfs[2]['SMD410'].round(0)\n",
    "# dfs[3]['SMD410'] = dfs[3]['SMD410'].round(0)\n",
    "# dfs[4]['SMD410'] = dfs[4]['SMD410'].round(0)\n",
    "# dfs[5]['SMD410'] = dfs[5]['SMD410'].round(0)\n",
    "# dfs[6]['SMD410'] = dfs[6]['SMD410'].round(0)\n",
    "# dfs[7]['SMD460'] = dfs[7]['SMD460'].round(0)\n",
    "# dfs[8]['SMD460'] = dfs[8]['SMD460'].round(0)"
   ]
  },
  {
   "cell_type": "markdown",
   "metadata": {},
   "source": [
    "## Make a copy of the dataframes"
   ]
  },
  {
   "cell_type": "code",
   "execution_count": 11,
   "metadata": {},
   "outputs": [],
   "source": [
    "#1999-2016\n",
    "df0 = dfs[0][var_names].copy() #1999-2000\n",
    "df1 = dfs[1][var_names1].copy() #2001-2002\n",
    "df2 = dfs[2][var_names1].copy() #2003-2004\n",
    "df3 = dfs[3][var_names1].copy() #2005-2006\n",
    "df4 = dfs[4][var_names1].copy() #2007-2008\n",
    "df5 = dfs[5][var_names1].copy() #2009-2010\n",
    "df6 = dfs[6][var_names1].copy() #2011-2012\n",
    "df7 = dfs[7][var_names1].copy() #2013-2014\n",
    "df8 = dfs[8][var_names1].copy() #2015-2016"
   ]
  },
  {
   "cell_type": "markdown",
   "metadata": {},
   "source": [
    "## Recategorize values"
   ]
  },
  {
   "cell_type": "code",
   "execution_count": 12,
   "metadata": {},
   "outputs": [],
   "source": [
    "#1999-2000\n",
    "recategorize(df0, 'WHD020', {77777:7777, 99999:9999})"
   ]
  },
  {
   "cell_type": "markdown",
   "metadata": {},
   "source": [
    "## Rename columns 1999-2000"
   ]
  },
  {
   "cell_type": "code",
   "execution_count": 13,
   "metadata": {},
   "outputs": [],
   "source": [
    "#Col names\n",
    "col_names = var_names1"
   ]
  },
  {
   "cell_type": "code",
   "execution_count": 14,
   "metadata": {},
   "outputs": [],
   "source": [
    "#1999-2000\n",
    "df0.columns = col_names"
   ]
  },
  {
   "cell_type": "markdown",
   "metadata": {},
   "source": [
    "## Append years 1999 - 2016"
   ]
  },
  {
   "cell_type": "code",
   "execution_count": 15,
   "metadata": {},
   "outputs": [],
   "source": [
    "years = [\"1999-2000\",\"2001-2002\",\"2003-2004\",\"2005-2006\",\"2007-2008\", \n",
    "        \"2009-2010\",\"2011-2012\",\"2013-2014\",\"2015-2016\"]"
   ]
  },
  {
   "cell_type": "code",
   "execution_count": 16,
   "metadata": {},
   "outputs": [],
   "source": [
    "frames = [df0, df1, df2, df3, df4, df5, df6, df7, df8]"
   ]
  },
  {
   "cell_type": "code",
   "execution_count": 17,
   "metadata": {},
   "outputs": [],
   "source": [
    "#Add years as a column\n",
    "for i, df in enumerate(frames):\n",
    "    df[\"Year\"] = years[i]"
   ]
  },
  {
   "cell_type": "code",
   "execution_count": 18,
   "metadata": {},
   "outputs": [],
   "source": [
    "result_1999_2016 = pd.concat(frames, keys = years)"
   ]
  },
  {
   "cell_type": "code",
   "execution_count": 19,
   "metadata": {},
   "outputs": [],
   "source": [
    "result_1999_2016_cleaned = result_1999_2016.copy()"
   ]
  },
  {
   "cell_type": "markdown",
   "metadata": {},
   "source": [
    "## Count values for each column"
   ]
  },
  {
   "cell_type": "code",
   "execution_count": 20,
   "metadata": {},
   "outputs": [
    {
     "data": {
      "text/html": [
       "<div>\n",
       "<style>\n",
       "    .dataframe thead tr:only-child th {\n",
       "        text-align: right;\n",
       "    }\n",
       "\n",
       "    .dataframe thead th {\n",
       "        text-align: left;\n",
       "    }\n",
       "\n",
       "    .dataframe tbody tr th {\n",
       "        vertical-align: top;\n",
       "    }\n",
       "</style>\n",
       "<table border=\"1\" class=\"dataframe\">\n",
       "  <thead>\n",
       "    <tr style=\"text-align: right;\">\n",
       "      <th></th>\n",
       "      <th></th>\n",
       "      <th>SEQN</th>\n",
       "      <th>WHD010</th>\n",
       "      <th>WHD020</th>\n",
       "      <th>WHQ030</th>\n",
       "      <th>WHQ040</th>\n",
       "      <th>Year</th>\n",
       "    </tr>\n",
       "  </thead>\n",
       "  <tbody>\n",
       "  </tbody>\n",
       "</table>\n",
       "</div>"
      ],
      "text/plain": [
       "Empty DataFrame\n",
       "Columns: [SEQN, WHD010, WHD020, WHQ030, WHQ040, Year]\n",
       "Index: []"
      ]
     },
     "execution_count": 20,
     "metadata": {},
     "output_type": "execute_result"
    }
   ],
   "source": [
    "result_1999_2016_cleaned[:0]"
   ]
  },
  {
   "cell_type": "code",
   "execution_count": 21,
   "metadata": {},
   "outputs": [
    {
     "data": {
      "text/plain": [
       "5"
      ]
     },
     "execution_count": 21,
     "metadata": {},
     "output_type": "execute_result"
    }
   ],
   "source": [
    "len(col_names)"
   ]
  },
  {
   "cell_type": "code",
   "execution_count": 22,
   "metadata": {},
   "outputs": [
    {
     "name": "stdout",
     "output_type": "stream",
     "text": [
      "WHD010\n",
      "39.0         1\n",
      "40.0         1\n",
      "41.0        12\n",
      "42.0         2\n",
      "43.0         2\n",
      "47.0         1\n",
      "48.0        12\n",
      "49.0        11\n",
      "50.0         7\n",
      "51.0        12\n",
      "52.0         8\n",
      "53.0        53\n",
      "54.0        23\n",
      "55.0        44\n",
      "56.0        95\n",
      "57.0       173\n",
      "58.0       306\n",
      "59.0      1012\n",
      "60.0      2167\n",
      "61.0      2395\n",
      "62.0      4176\n",
      "63.0      4209\n",
      "64.0      4902\n",
      "65.0      4720\n",
      "66.0      5363\n",
      "67.0      4862\n",
      "68.0      4176\n",
      "69.0      3740\n",
      "70.0      3465\n",
      "71.0      3221\n",
      "72.0      2678\n",
      "73.0      1630\n",
      "74.0      1259\n",
      "75.0       679\n",
      "76.0       363\n",
      "77.0       148\n",
      "78.0        64\n",
      "79.0        32\n",
      "80.0        18\n",
      "81.0        10\n",
      "82.0         3\n",
      "83.0         4\n",
      "84.0         2\n",
      "7777.0      14\n",
      "9999.0     994\n",
      "Name: SEQN, dtype: int64 \n",
      "\n",
      " NaN:  362\n"
     ]
    }
   ],
   "source": [
    "#WHD010 - Current self-reported height (inches)\n",
    "count_vals(result_1999_2016_cleaned, col_names[1])"
   ]
  },
  {
   "cell_type": "code",
   "execution_count": 23,
   "metadata": {},
   "outputs": [
    {
     "name": "stdout",
     "output_type": "stream",
     "text": [
      "WHD020\n",
      "50.0        1\n",
      "55.0        1\n",
      "60.0        1\n",
      "66.0        1\n",
      "70.0        2\n",
      "75.0        2\n",
      "76.0        1\n",
      "78.0        4\n",
      "79.0        2\n",
      "80.0       11\n",
      "81.0        2\n",
      "82.0        5\n",
      "83.0        6\n",
      "84.0       10\n",
      "85.0       14\n",
      "86.0        9\n",
      "87.0        9\n",
      "88.0       11\n",
      "89.0       10\n",
      "90.0       51\n",
      "91.0        5\n",
      "92.0       21\n",
      "93.0       19\n",
      "94.0       18\n",
      "95.0      103\n",
      "96.0       35\n",
      "97.0       29\n",
      "98.0      113\n",
      "99.0       35\n",
      "100.0     250\n",
      "         ... \n",
      "393.0       1\n",
      "395.0       4\n",
      "396.0       1\n",
      "397.0       3\n",
      "398.0       2\n",
      "400.0      11\n",
      "407.0       1\n",
      "410.0       1\n",
      "411.0       1\n",
      "415.0       2\n",
      "416.0       2\n",
      "420.0       2\n",
      "425.0       2\n",
      "427.0       1\n",
      "428.0       1\n",
      "430.0       1\n",
      "431.0       2\n",
      "432.0       1\n",
      "435.0       1\n",
      "440.0       3\n",
      "445.0       1\n",
      "450.0       4\n",
      "464.0       1\n",
      "468.0       1\n",
      "470.0       1\n",
      "493.0       1\n",
      "600.0       3\n",
      "670.0       1\n",
      "7777.0     63\n",
      "9999.0    696\n",
      "Name: SEQN, Length: 340, dtype: int64 \n",
      "\n",
      " NaN:  324\n"
     ]
    }
   ],
   "source": [
    "#WHD020 - Current self-reported weight (pounds)\n",
    "count_vals(result_1999_2016_cleaned, col_names[2])"
   ]
  },
  {
   "cell_type": "code",
   "execution_count": 24,
   "metadata": {},
   "outputs": [
    {
     "name": "stdout",
     "output_type": "stream",
     "text": [
      "WHQ030\n",
      "1.0    27941\n",
      "2.0     3537\n",
      "3.0    25741\n",
      "7.0       25\n",
      "9.0      135\n",
      "Name: SEQN, dtype: int64 \n",
      "\n",
      " NaN:  52\n"
     ]
    }
   ],
   "source": [
    "#WHQ030 - How do you consider your weight\n",
    "count_vals(result_1999_2016_cleaned, col_names[3])"
   ]
  },
  {
   "cell_type": "code",
   "execution_count": 25,
   "metadata": {},
   "outputs": [
    {
     "name": "stdout",
     "output_type": "stream",
     "text": [
      "WHQ040\n",
      "1.0     5236\n",
      "2.0    32591\n",
      "3.0    19460\n",
      "7.0       21\n",
      "9.0       71\n",
      "Name: SEQN, dtype: int64 \n",
      "\n",
      " NaN:  52\n"
     ]
    }
   ],
   "source": [
    "#WHQ040 - Like to weigh more, less or same\n",
    "count_vals(result_1999_2016_cleaned, col_names[4])"
   ]
  },
  {
   "cell_type": "code",
   "execution_count": 26,
   "metadata": {},
   "outputs": [
    {
     "data": {
      "text/html": [
       "<div>\n",
       "<style>\n",
       "    .dataframe thead tr:only-child th {\n",
       "        text-align: right;\n",
       "    }\n",
       "\n",
       "    .dataframe thead th {\n",
       "        text-align: left;\n",
       "    }\n",
       "\n",
       "    .dataframe tbody tr th {\n",
       "        vertical-align: top;\n",
       "    }\n",
       "</style>\n",
       "<table border=\"1\" class=\"dataframe\">\n",
       "  <thead>\n",
       "    <tr style=\"text-align: right;\">\n",
       "      <th></th>\n",
       "      <th></th>\n",
       "      <th>SEQN</th>\n",
       "      <th>WHD010</th>\n",
       "      <th>WHD020</th>\n",
       "      <th>WHQ030</th>\n",
       "      <th>WHQ040</th>\n",
       "      <th>Year</th>\n",
       "    </tr>\n",
       "  </thead>\n",
       "  <tbody>\n",
       "    <tr>\n",
       "      <th>1999-2000</th>\n",
       "      <th>0</th>\n",
       "      <td>2.0</td>\n",
       "      <td>69.0</td>\n",
       "      <td>168.0</td>\n",
       "      <td>3.0</td>\n",
       "      <td>3.0</td>\n",
       "      <td>1999-2000</td>\n",
       "    </tr>\n",
       "  </tbody>\n",
       "</table>\n",
       "</div>"
      ],
      "text/plain": [
       "             SEQN  WHD010  WHD020  WHQ030  WHQ040       Year\n",
       "1999-2000 0   2.0    69.0   168.0     3.0     3.0  1999-2000"
      ]
     },
     "execution_count": 26,
     "metadata": {},
     "output_type": "execute_result"
    }
   ],
   "source": [
    "result_1999_2016[:1]"
   ]
  },
  {
   "cell_type": "code",
   "execution_count": 27,
   "metadata": {},
   "outputs": [
    {
     "data": {
      "text/plain": [
       "57431"
      ]
     },
     "execution_count": 27,
     "metadata": {},
     "output_type": "execute_result"
    }
   ],
   "source": [
    "len(result_1999_2016)"
   ]
  },
  {
   "cell_type": "markdown",
   "metadata": {},
   "source": [
    "## Remove missing values:"
   ]
  },
  {
   "cell_type": "code",
   "execution_count": 28,
   "metadata": {},
   "outputs": [],
   "source": [
    "drop_rows(result_1999_2016_cleaned, col_names[1], [np.nan, 7777, 9999])\n",
    "drop_rows(result_1999_2016_cleaned, col_names[2], [np.nan, 7777, 9999])\n",
    "drop_rows(result_1999_2016_cleaned, col_names[3], [np.nan, 7, 9])\n",
    "drop_rows(result_1999_2016_cleaned, col_names[4], [np.nan, 7, 9])"
   ]
  },
  {
   "cell_type": "markdown",
   "metadata": {},
   "source": [
    "## See if missing values have been correctly removed:"
   ]
  },
  {
   "cell_type": "code",
   "execution_count": 29,
   "metadata": {
    "scrolled": true
   },
   "outputs": [
    {
     "name": "stdout",
     "output_type": "stream",
     "text": [
      "WHD010\n",
      "39.0       1\n",
      "40.0       1\n",
      "41.0      11\n",
      "42.0       2\n",
      "43.0       2\n",
      "47.0       1\n",
      "48.0      11\n",
      "49.0      11\n",
      "50.0       6\n",
      "51.0      12\n",
      "52.0       8\n",
      "53.0      52\n",
      "54.0      23\n",
      "55.0      44\n",
      "56.0      92\n",
      "57.0     170\n",
      "58.0     297\n",
      "59.0     995\n",
      "60.0    2123\n",
      "61.0    2338\n",
      "62.0    4097\n",
      "63.0    4119\n",
      "64.0    4828\n",
      "65.0    4638\n",
      "66.0    5281\n",
      "67.0    4798\n",
      "68.0    4133\n",
      "69.0    3707\n",
      "70.0    3441\n",
      "71.0    3198\n",
      "72.0    2654\n",
      "73.0    1621\n",
      "74.0    1256\n",
      "75.0     673\n",
      "76.0     360\n",
      "77.0     148\n",
      "78.0      63\n",
      "79.0      32\n",
      "80.0      18\n",
      "81.0      10\n",
      "82.0       3\n",
      "83.0       4\n",
      "84.0       2\n",
      "Name: SEQN, dtype: int64 \n",
      "\n",
      " NaN:  0\n"
     ]
    }
   ],
   "source": [
    "count_vals(result_1999_2016_cleaned, col_names[1])"
   ]
  },
  {
   "cell_type": "code",
   "execution_count": 30,
   "metadata": {},
   "outputs": [
    {
     "name": "stdout",
     "output_type": "stream",
     "text": [
      "WHD020\n",
      "50.0       1\n",
      "60.0       1\n",
      "70.0       2\n",
      "75.0       2\n",
      "76.0       1\n",
      "78.0       3\n",
      "79.0       2\n",
      "80.0      11\n",
      "81.0       2\n",
      "82.0       4\n",
      "83.0       4\n",
      "84.0       8\n",
      "85.0      13\n",
      "86.0       9\n",
      "87.0       8\n",
      "88.0      10\n",
      "89.0      10\n",
      "90.0      45\n",
      "91.0       4\n",
      "92.0      20\n",
      "93.0      18\n",
      "94.0      18\n",
      "95.0      99\n",
      "96.0      33\n",
      "97.0      28\n",
      "98.0     113\n",
      "99.0      34\n",
      "100.0    243\n",
      "101.0     31\n",
      "102.0     68\n",
      "        ... \n",
      "390.0      6\n",
      "391.0      1\n",
      "393.0      1\n",
      "395.0      4\n",
      "396.0      1\n",
      "397.0      3\n",
      "398.0      2\n",
      "400.0     11\n",
      "407.0      1\n",
      "410.0      1\n",
      "411.0      1\n",
      "415.0      2\n",
      "416.0      2\n",
      "420.0      2\n",
      "425.0      2\n",
      "427.0      1\n",
      "428.0      1\n",
      "430.0      1\n",
      "431.0      2\n",
      "432.0      1\n",
      "435.0      1\n",
      "440.0      3\n",
      "445.0      1\n",
      "450.0      4\n",
      "464.0      1\n",
      "468.0      1\n",
      "470.0      1\n",
      "493.0      1\n",
      "600.0      3\n",
      "670.0      1\n",
      "Name: SEQN, Length: 335, dtype: int64 \n",
      "\n",
      " NaN:  0\n"
     ]
    }
   ],
   "source": [
    "count_vals(result_1999_2016_cleaned, col_names[2])"
   ]
  },
  {
   "cell_type": "code",
   "execution_count": 31,
   "metadata": {},
   "outputs": [
    {
     "name": "stdout",
     "output_type": "stream",
     "text": [
      "WHQ030\n",
      "1.0    27090\n",
      "2.0     3407\n",
      "3.0    24787\n",
      "Name: SEQN, dtype: int64 \n",
      "\n",
      " NaN:  0\n"
     ]
    }
   ],
   "source": [
    "count_vals(result_1999_2016_cleaned, col_names[3])"
   ]
  },
  {
   "cell_type": "code",
   "execution_count": 32,
   "metadata": {},
   "outputs": [
    {
     "name": "stdout",
     "output_type": "stream",
     "text": [
      "WHQ040\n",
      "1.0     5092\n",
      "2.0    31566\n",
      "3.0    18626\n",
      "Name: SEQN, dtype: int64 \n",
      "\n",
      " NaN:  0\n"
     ]
    }
   ],
   "source": [
    "count_vals(result_1999_2016_cleaned, col_names[4])"
   ]
  },
  {
   "cell_type": "code",
   "execution_count": 33,
   "metadata": {},
   "outputs": [
    {
     "data": {
      "text/plain": [
       "57431"
      ]
     },
     "execution_count": 33,
     "metadata": {},
     "output_type": "execute_result"
    }
   ],
   "source": [
    "before = len(result_1999_2016)\n",
    "before"
   ]
  },
  {
   "cell_type": "code",
   "execution_count": 34,
   "metadata": {},
   "outputs": [
    {
     "data": {
      "text/plain": [
       "55284"
      ]
     },
     "execution_count": 34,
     "metadata": {},
     "output_type": "execute_result"
    }
   ],
   "source": [
    "after = len(result_1999_2016_cleaned)\n",
    "after"
   ]
  },
  {
   "cell_type": "code",
   "execution_count": 35,
   "metadata": {},
   "outputs": [
    {
     "data": {
      "text/plain": [
       "0.038835829534765935"
      ]
     },
     "execution_count": 35,
     "metadata": {},
     "output_type": "execute_result"
    }
   ],
   "source": [
    "(before-after)/after"
   ]
  },
  {
   "cell_type": "markdown",
   "metadata": {},
   "source": [
    "## MongoDB Insertion"
   ]
  },
  {
   "cell_type": "code",
   "execution_count": 36,
   "metadata": {},
   "outputs": [],
   "source": [
    "#Import MongoClient\n",
    "from pymongo import MongoClient\n",
    "\n",
    "#Create a MongoClient to run the MongoDB instance\n",
    "client = MongoClient('localhost', 27017)"
   ]
  },
  {
   "cell_type": "code",
   "execution_count": 37,
   "metadata": {},
   "outputs": [],
   "source": [
    "#Connect to existing datbase\n",
    "db = client.NHANES"
   ]
  },
  {
   "cell_type": "code",
   "execution_count": 38,
   "metadata": {},
   "outputs": [
    {
     "data": {
      "text/plain": [
       "Database(MongoClient(host=['localhost:27017'], document_class=dict, tz_aware=False, connect=True), 'NHANES')"
      ]
     },
     "execution_count": 38,
     "metadata": {},
     "output_type": "execute_result"
    }
   ],
   "source": [
    "db"
   ]
  },
  {
   "cell_type": "code",
   "execution_count": 39,
   "metadata": {},
   "outputs": [
    {
     "data": {
      "text/plain": [
       "['smqfam', 'smq', 'mcq', 'hiq', 'demo', 'bpq', 'paq', 'whq', 'alq', 'diq']"
      ]
     },
     "execution_count": 39,
     "metadata": {},
     "output_type": "execute_result"
    }
   ],
   "source": [
    "db.list_collection_names()"
   ]
  },
  {
   "cell_type": "code",
   "execution_count": 40,
   "metadata": {},
   "outputs": [],
   "source": [
    "#Create collection in database\n",
    "whq = db.whq"
   ]
  },
  {
   "cell_type": "code",
   "execution_count": 41,
   "metadata": {},
   "outputs": [],
   "source": [
    "#If collections exist, then drop\n",
    "if 'whq' in db.list_collection_names():\n",
    "    whq.drop()\n",
    "    db.list_collection_names()\n",
    "else:\n",
    "    print(\"Collections doesn't exist yet\")"
   ]
  },
  {
   "cell_type": "markdown",
   "metadata": {},
   "source": [
    "## Create new collection to input into database"
   ]
  },
  {
   "cell_type": "code",
   "execution_count": 42,
   "metadata": {},
   "outputs": [
    {
     "data": {
      "text/html": [
       "<div>\n",
       "<style>\n",
       "    .dataframe thead tr:only-child th {\n",
       "        text-align: right;\n",
       "    }\n",
       "\n",
       "    .dataframe thead th {\n",
       "        text-align: left;\n",
       "    }\n",
       "\n",
       "    .dataframe tbody tr th {\n",
       "        vertical-align: top;\n",
       "    }\n",
       "</style>\n",
       "<table border=\"1\" class=\"dataframe\">\n",
       "  <thead>\n",
       "    <tr style=\"text-align: right;\">\n",
       "      <th></th>\n",
       "      <th></th>\n",
       "      <th>SEQN</th>\n",
       "      <th>WHD010</th>\n",
       "      <th>WHD020</th>\n",
       "      <th>WHQ030</th>\n",
       "      <th>WHQ040</th>\n",
       "      <th>Year</th>\n",
       "    </tr>\n",
       "  </thead>\n",
       "  <tbody>\n",
       "    <tr>\n",
       "      <th rowspan=\"3\" valign=\"top\">1999-2000</th>\n",
       "      <th>0</th>\n",
       "      <td>2.0</td>\n",
       "      <td>69.0</td>\n",
       "      <td>168.0</td>\n",
       "      <td>3.0</td>\n",
       "      <td>3.0</td>\n",
       "      <td>1999-2000</td>\n",
       "    </tr>\n",
       "    <tr>\n",
       "      <th>1</th>\n",
       "      <td>5.0</td>\n",
       "      <td>71.0</td>\n",
       "      <td>206.0</td>\n",
       "      <td>1.0</td>\n",
       "      <td>2.0</td>\n",
       "      <td>1999-2000</td>\n",
       "    </tr>\n",
       "    <tr>\n",
       "      <th>2</th>\n",
       "      <td>6.0</td>\n",
       "      <td>64.0</td>\n",
       "      <td>132.0</td>\n",
       "      <td>3.0</td>\n",
       "      <td>2.0</td>\n",
       "      <td>1999-2000</td>\n",
       "    </tr>\n",
       "  </tbody>\n",
       "</table>\n",
       "</div>"
      ],
      "text/plain": [
       "             SEQN  WHD010  WHD020  WHQ030  WHQ040       Year\n",
       "1999-2000 0   2.0    69.0   168.0     3.0     3.0  1999-2000\n",
       "          1   5.0    71.0   206.0     1.0     2.0  1999-2000\n",
       "          2   6.0    64.0   132.0     3.0     2.0  1999-2000"
      ]
     },
     "execution_count": 42,
     "metadata": {},
     "output_type": "execute_result"
    }
   ],
   "source": [
    "result_1999_2016_cleaned[:3]"
   ]
  },
  {
   "cell_type": "code",
   "execution_count": 43,
   "metadata": {},
   "outputs": [],
   "source": [
    "#Set SEQN as _id (Primary Key)\n",
    "result_1999_2016_cleaned.rename(columns={'SEQN':'_id'}, inplace=True)"
   ]
  },
  {
   "cell_type": "code",
   "execution_count": 44,
   "metadata": {},
   "outputs": [],
   "source": [
    "#Dataframe to dictionary\n",
    "whq_dict = result_1999_2016_cleaned.to_dict(orient='records')"
   ]
  },
  {
   "cell_type": "code",
   "execution_count": 45,
   "metadata": {},
   "outputs": [
    {
     "data": {
      "text/plain": [
       "{'WHD010': 69.0,\n",
       " 'WHD020': 168.0,\n",
       " 'WHQ030': 3.0,\n",
       " 'WHQ040': 3.0,\n",
       " 'Year': '1999-2000',\n",
       " '_id': 2.0}"
      ]
     },
     "execution_count": 45,
     "metadata": {},
     "output_type": "execute_result"
    }
   ],
   "source": [
    "whq_dict[0]"
   ]
  },
  {
   "cell_type": "code",
   "execution_count": 46,
   "metadata": {
    "scrolled": true
   },
   "outputs": [
    {
     "data": {
      "text/plain": [
       "<pymongo.results.InsertManyResult at 0x124498c48>"
      ]
     },
     "execution_count": 46,
     "metadata": {},
     "output_type": "execute_result"
    }
   ],
   "source": [
    "#Insert collection \n",
    "whq.insert_many(whq_dict)"
   ]
  },
  {
   "cell_type": "code",
   "execution_count": 47,
   "metadata": {
    "scrolled": true
   },
   "outputs": [
    {
     "data": {
      "text/plain": [
       "['smqfam',\n",
       " 'smq',\n",
       " 'mcq',\n",
       " 'hiq',\n",
       " 'demo',\n",
       " 'bpq',\n",
       " 'huq',\n",
       " 'paq',\n",
       " 'whq',\n",
       " 'alq',\n",
       " 'diq']"
      ]
     },
     "execution_count": 47,
     "metadata": {},
     "output_type": "execute_result"
    }
   ],
   "source": [
    "#View collections\n",
    "db.list_collection_names()"
   ]
  },
  {
   "cell_type": "code",
   "execution_count": 48,
   "metadata": {},
   "outputs": [
    {
     "name": "stderr",
     "output_type": "stream",
     "text": [
      "/Users/changzhoug/anaconda/lib/python3.6/site-packages/ipykernel_launcher.py:1: DeprecationWarning: count is deprecated. Use estimated_document_count or count_documents instead. Please note that $where must be replaced by $expr, $near must be replaced by $geoWithin with $center, and $nearSphere must be replaced by $geoWithin with $centerSphere\n",
      "  \"\"\"Entry point for launching an IPython kernel.\n"
     ]
    },
    {
     "data": {
      "text/plain": [
       "55284"
      ]
     },
     "execution_count": 48,
     "metadata": {},
     "output_type": "execute_result"
    }
   ],
   "source": [
    "db.whq.count() #55284"
   ]
  },
  {
   "cell_type": "code",
   "execution_count": 49,
   "metadata": {},
   "outputs": [],
   "source": [
    "# for w in whq.find():\n",
    "#     print(w)"
   ]
  }
 ],
 "metadata": {
  "kernelspec": {
   "display_name": "Python 3",
   "language": "python",
   "name": "python3"
  },
  "language_info": {
   "codemirror_mode": {
    "name": "ipython",
    "version": 3
   },
   "file_extension": ".py",
   "mimetype": "text/x-python",
   "name": "python",
   "nbconvert_exporter": "python",
   "pygments_lexer": "ipython3",
   "version": "3.6.8"
  }
 },
 "nbformat": 4,
 "nbformat_minor": 2
}
