{
 "cells": [
  {
   "cell_type": "code",
   "execution_count": 1,
   "metadata": {},
   "outputs": [],
   "source": [
    "#Import libraries\n",
    "import pandas as pd\n",
    "import numpy as np\n",
    "import matplotlib.pyplot as plt\n",
    "import glob\n",
    "import re\n",
    "from collections import defaultdict"
   ]
  },
  {
   "cell_type": "markdown",
   "metadata": {},
   "source": [
    "# Description of Collections"
   ]
  },
  {
   "cell_type": "code",
   "execution_count": 2,
   "metadata": {},
   "outputs": [],
   "source": [
    "descr_dict = {'alq':'Alcohol Use', 'bmx':'Body Measures','bpq':'Blood Pressure','bpx':'Blood Pressure - Measures','demo':'Demographics','demo_p':'Demographics for Vis', 'diq':'Diabetes','drxtot':'Dietary','hiq':'Health Insurance','huq':'Hospital Utilization','mcq_a':'Asthma','mcq_h':'Heart Disease','paq':'Physical Activity','smq':'Smoking','smqfam':'Household Smoking','tchol':'Cholesterol','whq':'Weight History','mcq_c':'Cancer','mcq_b':'Bronchitis','rdq':'Cough'}"
   ]
  },
  {
   "cell_type": "markdown",
   "metadata": {},
   "source": [
    "## MongoDB Insertion"
   ]
  },
  {
   "cell_type": "code",
   "execution_count": 3,
   "metadata": {},
   "outputs": [],
   "source": [
    "#Import MongoClient\n",
    "from pymongo import MongoClient\n",
    "\n",
    "#Create a MongoClient to run the MongoDB instance\n",
    "client = MongoClient(\"localhost\", 27017)"
   ]
  },
  {
   "cell_type": "code",
   "execution_count": 4,
   "metadata": {},
   "outputs": [
    {
     "data": {
      "text/plain": [
       "Database(MongoClient(host=['localhost:27017'], document_class=dict, tz_aware=False, connect=True), 'NHANES')"
      ]
     },
     "execution_count": 4,
     "metadata": {},
     "output_type": "execute_result"
    }
   ],
   "source": [
    "#Connect to existing database\n",
    "db = client.NHANES\n",
    "db"
   ]
  },
  {
   "cell_type": "code",
   "execution_count": 5,
   "metadata": {},
   "outputs": [
    {
     "data": {
      "text/plain": [
       "['mcq_h',\n",
       " 'smq',\n",
       " 'smqfam',\n",
       " 'bpx',\n",
       " 'descr',\n",
       " 'mcq_b',\n",
       " 'hiq',\n",
       " 'demo',\n",
       " 'bpq',\n",
       " 'drxtot',\n",
       " 'huq',\n",
       " 'tchol',\n",
       " 'mcq_a',\n",
       " 'mcq_c',\n",
       " 'demo_p',\n",
       " 'paq',\n",
       " 'whq',\n",
       " 'alq',\n",
       " 'rdq',\n",
       " 'diq',\n",
       " 'bmx']"
      ]
     },
     "execution_count": 5,
     "metadata": {},
     "output_type": "execute_result"
    }
   ],
   "source": [
    "db.list_collection_names()"
   ]
  },
  {
   "cell_type": "code",
   "execution_count": 6,
   "metadata": {},
   "outputs": [],
   "source": [
    "#Creating a collection\n",
    "descr = db.descr"
   ]
  },
  {
   "cell_type": "code",
   "execution_count": 7,
   "metadata": {},
   "outputs": [],
   "source": [
    "#If collections exist, then drop\n",
    "if 'descr' in db.list_collection_names():\n",
    "    descr.drop()\n",
    "    db.list_collection_names()"
   ]
  },
  {
   "cell_type": "markdown",
   "metadata": {},
   "source": [
    "## Create new collection to input into database"
   ]
  },
  {
   "cell_type": "code",
   "execution_count": 8,
   "metadata": {},
   "outputs": [
    {
     "data": {
      "text/html": [
       "<div>\n",
       "<style scoped>\n",
       "    .dataframe tbody tr th:only-of-type {\n",
       "        vertical-align: middle;\n",
       "    }\n",
       "\n",
       "    .dataframe tbody tr th {\n",
       "        vertical-align: top;\n",
       "    }\n",
       "\n",
       "    .dataframe thead th {\n",
       "        text-align: right;\n",
       "    }\n",
       "</style>\n",
       "<table border=\"1\" class=\"dataframe\">\n",
       "  <thead>\n",
       "    <tr style=\"text-align: right;\">\n",
       "      <th></th>\n",
       "      <th>_id</th>\n",
       "      <th>Description</th>\n",
       "    </tr>\n",
       "  </thead>\n",
       "  <tbody>\n",
       "    <tr>\n",
       "      <th>0</th>\n",
       "      <td>alq</td>\n",
       "      <td>Alcohol Use</td>\n",
       "    </tr>\n",
       "    <tr>\n",
       "      <th>1</th>\n",
       "      <td>bmx</td>\n",
       "      <td>Body Measures</td>\n",
       "    </tr>\n",
       "    <tr>\n",
       "      <th>2</th>\n",
       "      <td>bpq</td>\n",
       "      <td>Blood Pressure</td>\n",
       "    </tr>\n",
       "    <tr>\n",
       "      <th>3</th>\n",
       "      <td>bpx</td>\n",
       "      <td>Blood Pressure - Measures</td>\n",
       "    </tr>\n",
       "    <tr>\n",
       "      <th>4</th>\n",
       "      <td>demo</td>\n",
       "      <td>Demographics</td>\n",
       "    </tr>\n",
       "    <tr>\n",
       "      <th>5</th>\n",
       "      <td>demo_p</td>\n",
       "      <td>Demographics for Vis</td>\n",
       "    </tr>\n",
       "    <tr>\n",
       "      <th>6</th>\n",
       "      <td>diq</td>\n",
       "      <td>Diabetes</td>\n",
       "    </tr>\n",
       "    <tr>\n",
       "      <th>7</th>\n",
       "      <td>drxtot</td>\n",
       "      <td>Dietary</td>\n",
       "    </tr>\n",
       "    <tr>\n",
       "      <th>8</th>\n",
       "      <td>hiq</td>\n",
       "      <td>Health Insurance</td>\n",
       "    </tr>\n",
       "    <tr>\n",
       "      <th>9</th>\n",
       "      <td>huq</td>\n",
       "      <td>Hospital Utilization</td>\n",
       "    </tr>\n",
       "    <tr>\n",
       "      <th>10</th>\n",
       "      <td>mcq_a</td>\n",
       "      <td>Asthma</td>\n",
       "    </tr>\n",
       "    <tr>\n",
       "      <th>11</th>\n",
       "      <td>mcq_h</td>\n",
       "      <td>Heart Disease</td>\n",
       "    </tr>\n",
       "    <tr>\n",
       "      <th>12</th>\n",
       "      <td>paq</td>\n",
       "      <td>Physical Activity</td>\n",
       "    </tr>\n",
       "    <tr>\n",
       "      <th>13</th>\n",
       "      <td>smq</td>\n",
       "      <td>Smoking</td>\n",
       "    </tr>\n",
       "    <tr>\n",
       "      <th>14</th>\n",
       "      <td>smqfam</td>\n",
       "      <td>Household Smoking</td>\n",
       "    </tr>\n",
       "    <tr>\n",
       "      <th>15</th>\n",
       "      <td>tchol</td>\n",
       "      <td>Cholesterol</td>\n",
       "    </tr>\n",
       "    <tr>\n",
       "      <th>16</th>\n",
       "      <td>whq</td>\n",
       "      <td>Weight History</td>\n",
       "    </tr>\n",
       "    <tr>\n",
       "      <th>17</th>\n",
       "      <td>mcq_c</td>\n",
       "      <td>Cancer</td>\n",
       "    </tr>\n",
       "    <tr>\n",
       "      <th>18</th>\n",
       "      <td>mcq_b</td>\n",
       "      <td>Bronchitis</td>\n",
       "    </tr>\n",
       "    <tr>\n",
       "      <th>19</th>\n",
       "      <td>rdq</td>\n",
       "      <td>Cough</td>\n",
       "    </tr>\n",
       "  </tbody>\n",
       "</table>\n",
       "</div>"
      ],
      "text/plain": [
       "       _id                Description\n",
       "0      alq                Alcohol Use\n",
       "1      bmx              Body Measures\n",
       "2      bpq             Blood Pressure\n",
       "3      bpx  Blood Pressure - Measures\n",
       "4     demo               Demographics\n",
       "5   demo_p       Demographics for Vis\n",
       "6      diq                   Diabetes\n",
       "7   drxtot                    Dietary\n",
       "8      hiq           Health Insurance\n",
       "9      huq       Hospital Utilization\n",
       "10   mcq_a                     Asthma\n",
       "11   mcq_h              Heart Disease\n",
       "12     paq          Physical Activity\n",
       "13     smq                    Smoking\n",
       "14  smqfam          Household Smoking\n",
       "15   tchol                Cholesterol\n",
       "16     whq             Weight History\n",
       "17   mcq_c                     Cancer\n",
       "18   mcq_b                 Bronchitis\n",
       "19     rdq                      Cough"
      ]
     },
     "execution_count": 8,
     "metadata": {},
     "output_type": "execute_result"
    }
   ],
   "source": [
    "descr_df = pd.DataFrame.from_dict(descr_dict, orient='index').reset_index()\n",
    "#Set descr as _id (Primary Key)\n",
    "descr_df.columns = ['_id', 'Description']\n",
    "descr_df"
   ]
  },
  {
   "cell_type": "code",
   "execution_count": 9,
   "metadata": {},
   "outputs": [
    {
     "data": {
      "text/plain": [
       "[{'Description': 'Alcohol Use', '_id': 'alq'},\n",
       " {'Description': 'Body Measures', '_id': 'bmx'},\n",
       " {'Description': 'Blood Pressure', '_id': 'bpq'},\n",
       " {'Description': 'Blood Pressure - Measures', '_id': 'bpx'},\n",
       " {'Description': 'Demographics', '_id': 'demo'},\n",
       " {'Description': 'Demographics for Vis', '_id': 'demo_p'},\n",
       " {'Description': 'Diabetes', '_id': 'diq'},\n",
       " {'Description': 'Dietary', '_id': 'drxtot'},\n",
       " {'Description': 'Health Insurance', '_id': 'hiq'},\n",
       " {'Description': 'Hospital Utilization', '_id': 'huq'},\n",
       " {'Description': 'Asthma', '_id': 'mcq_a'},\n",
       " {'Description': 'Heart Disease', '_id': 'mcq_h'},\n",
       " {'Description': 'Physical Activity', '_id': 'paq'},\n",
       " {'Description': 'Smoking', '_id': 'smq'},\n",
       " {'Description': 'Household Smoking', '_id': 'smqfam'},\n",
       " {'Description': 'Cholesterol', '_id': 'tchol'},\n",
       " {'Description': 'Weight History', '_id': 'whq'},\n",
       " {'Description': 'Cancer', '_id': 'mcq_c'},\n",
       " {'Description': 'Bronchitis', '_id': 'mcq_b'},\n",
       " {'Description': 'Cough', '_id': 'rdq'}]"
      ]
     },
     "execution_count": 9,
     "metadata": {},
     "output_type": "execute_result"
    }
   ],
   "source": [
    "#Dataframe to dictionary\n",
    "descr_dict = descr_df.to_dict(orient='records')\n",
    "descr_dict"
   ]
  },
  {
   "cell_type": "code",
   "execution_count": 10,
   "metadata": {},
   "outputs": [
    {
     "data": {
      "text/plain": [
       "{'Description': 'Alcohol Use', '_id': 'alq'}"
      ]
     },
     "execution_count": 10,
     "metadata": {},
     "output_type": "execute_result"
    }
   ],
   "source": [
    "descr_dict[0]"
   ]
  },
  {
   "cell_type": "code",
   "execution_count": 11,
   "metadata": {},
   "outputs": [
    {
     "data": {
      "text/plain": [
       "<pymongo.results.InsertManyResult at 0x11c377308>"
      ]
     },
     "execution_count": 11,
     "metadata": {},
     "output_type": "execute_result"
    }
   ],
   "source": [
    "#Insert collection\n",
    "descr.insert_many(descr_dict)"
   ]
  },
  {
   "cell_type": "code",
   "execution_count": 12,
   "metadata": {
    "scrolled": true
   },
   "outputs": [
    {
     "data": {
      "text/plain": [
       "['mcq_h',\n",
       " 'smq',\n",
       " 'smqfam',\n",
       " 'bpx',\n",
       " 'descr',\n",
       " 'mcq_b',\n",
       " 'hiq',\n",
       " 'demo',\n",
       " 'bpq',\n",
       " 'drxtot',\n",
       " 'huq',\n",
       " 'tchol',\n",
       " 'mcq_a',\n",
       " 'mcq_c',\n",
       " 'demo_p',\n",
       " 'paq',\n",
       " 'whq',\n",
       " 'alq',\n",
       " 'rdq',\n",
       " 'diq',\n",
       " 'bmx']"
      ]
     },
     "execution_count": 12,
     "metadata": {},
     "output_type": "execute_result"
    }
   ],
   "source": [
    "db.list_collection_names()"
   ]
  }
 ],
 "metadata": {
  "kernelspec": {
   "display_name": "Python 3",
   "language": "python",
   "name": "python3"
  },
  "language_info": {
   "codemirror_mode": {
    "name": "ipython",
    "version": 3
   },
   "file_extension": ".py",
   "mimetype": "text/x-python",
   "name": "python",
   "nbconvert_exporter": "python",
   "pygments_lexer": "ipython3",
   "version": "3.6.8"
  }
 },
 "nbformat": 4,
 "nbformat_minor": 2
}
