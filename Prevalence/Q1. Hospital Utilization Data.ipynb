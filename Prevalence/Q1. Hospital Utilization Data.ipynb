{
 "cells": [
  {
   "cell_type": "code",
   "execution_count": null,
   "metadata": {},
   "outputs": [],
   "source": [
    "#Import libraries\n",
    "import pandas as pd\n",
    "import numpy as np\n",
    "import matplotlib.pyplot as plt\n",
    "import glob\n",
    "import re\n",
    "from collections import defaultdict"
   ]
  },
  {
   "cell_type": "code",
   "execution_count": null,
   "metadata": {},
   "outputs": [],
   "source": [
    "#To display all columns in Jupyter Notebooks\n",
    "pd.set_option('display.max_columns', 500)"
   ]
  },
  {
   "cell_type": "code",
   "execution_count": null,
   "metadata": {},
   "outputs": [],
   "source": [
    "#Import MongoClient\n",
    "from pymongo import MongoClient\n",
    "\n",
    "#Create a MongoClient to run the MongoDB instance\n",
    "client = MongoClient('localhost', 27017)"
   ]
  },
  {
   "cell_type": "code",
   "execution_count": null,
   "metadata": {},
   "outputs": [],
   "source": [
    "#Connect to existing datbase\n",
    "db = client.NHANES"
   ]
  },
  {
   "cell_type": "code",
   "execution_count": null,
   "metadata": {},
   "outputs": [],
   "source": [
    "db"
   ]
  },
  {
   "cell_type": "code",
   "execution_count": null,
   "metadata": {},
   "outputs": [],
   "source": [
    "col = db.list_collection_names()\n",
    "col.sort()\n",
    "col"
   ]
  },
  {
   "cell_type": "code",
   "execution_count": null,
   "metadata": {},
   "outputs": [],
   "source": [
    "#Collections\n",
    "demo_p = db.demo_p\n",
    "alq = db.alq\n",
    "diq = db.diq\n",
    "drxtot = db.drxtot\n",
    "bpq = db.bpq\n",
    "bpx = db.bpx\n",
    "tchol = db.tchol\n",
    "bmx = db.bmx\n",
    "paq = db.paq\n",
    "smq = db.smq\n",
    "smqfam = db.smqfam\n",
    "\n",
    "mcq_a = db.mcq_a #Asthma\n",
    "mcq_h = db.mcq_h #Heart Disease\n",
    "\n",
    "hiq = db.hiq\n",
    "huq = db.huq\n",
    "whq = db.whq\n",
    "\n",
    "descr = db.descr"
   ]
  },
  {
   "cell_type": "code",
   "execution_count": null,
   "metadata": {},
   "outputs": [],
   "source": [
    "#Create dataframes from database\n",
    "df_demo_p = pd.DataFrame(list(demo_p.find()))\n",
    "df_alq = pd.DataFrame(list(alq.find()))\n",
    "df_diq = pd.DataFrame(list(diq.find()))\n",
    "df_drxtot = pd.DataFrame(list(drxtot.find()))\n",
    "df_bpq = pd.DataFrame(list(bpq.find()))\n",
    "df_bpx = pd.DataFrame(list(bpx.find()))\n",
    "df_tchol = pd.DataFrame(list(tchol.find()))\n",
    "df_bmx = pd.DataFrame(list(bmx.find()))\n",
    "df_paq = pd.DataFrame(list(paq.find()))\n",
    "df_smq = pd.DataFrame(list(smq.find()))\n",
    "df_smqfam = pd.DataFrame(list(smqfam.find()))\n",
    "\n",
    "df_mcq_a = pd.DataFrame(list(mcq_a.find()))\n",
    "df_mcq_h = pd.DataFrame(list(mcq_h.find()))\n",
    "df_hiq = pd.DataFrame(list(hiq.find()))\n",
    "df_huq = pd.DataFrame(list(huq.find()))\n",
    "df_whq = pd.DataFrame(list(whq.find()))\n",
    "\n",
    "df_descr = pd.DataFrame(list(descr.find()))"
   ]
  },
  {
   "cell_type": "code",
   "execution_count": null,
   "metadata": {},
   "outputs": [],
   "source": [
    "#All records\n",
    "dfs = [df_demo_p, df_alq, df_diq, df_drxtot, df_bpq, df_bpx, df_tchol, df_bmx, df_paq, \n",
    "       df_smq, df_smqfam, df_mcq_a, df_mcq_h, df_hiq, df_huq, df_whq]"
   ]
  },
  {
   "cell_type": "code",
   "execution_count": null,
   "metadata": {},
   "outputs": [],
   "source": [
    "names = ['demo_p', 'alq', 'diq', 'drxtot', 'bpq', 'bpx', 'tchol', 'bmx', 'paq',\n",
    "        'smq', 'smqfam', 'mcq_a', 'mcq_h', 'hiq', 'huq', 'whq']"
   ]
  },
  {
   "cell_type": "code",
   "execution_count": null,
   "metadata": {},
   "outputs": [],
   "source": [
    "data_dict = dict(zip(names,dfs))"
   ]
  },
  {
   "cell_type": "markdown",
   "metadata": {},
   "source": [
    "## Functions:"
   ]
  },
  {
   "cell_type": "code",
   "execution_count": null,
   "metadata": {},
   "outputs": [],
   "source": [
    "#Function for inner join\n",
    "def innerjoin_df(dfs_list, join_on):\n",
    "    df_join = dfs_list[0]\n",
    "    for d in dfs_list[1:]:\n",
    "        df_join = df_join.merge(d, how='inner', on=join_on)\n",
    "    return df_join"
   ]
  },
  {
   "cell_type": "code",
   "execution_count": null,
   "metadata": {},
   "outputs": [],
   "source": [
    "#Function for getting info from list of collections\n",
    "#Look at records and features for each\n",
    "def get_info(dfs, names):\n",
    "    shape = [x.shape for x in dfs]\n",
    "    d = defaultdict(str)\n",
    "    for i in range(0,len(shape)):\n",
    "        d[names[i]] = shape[i]\n",
    "    info = pd.DataFrame.from_dict(d, orient='index').reset_index()\n",
    "    info.columns = ['_id', 'Records', 'Features']\n",
    "    return info"
   ]
  },
  {
   "cell_type": "code",
   "execution_count": null,
   "metadata": {},
   "outputs": [],
   "source": [
    "info = get_info(dfs, names)\n",
    "info_join = innerjoin_df([info, df_descr], ['_id'])\n",
    "info_join = info_join.sort_values(by='Records', ascending=False)\n",
    "info_join[:10]"
   ]
  },
  {
   "cell_type": "markdown",
   "metadata": {},
   "source": [
    "### Select data to use"
   ]
  },
  {
   "cell_type": "code",
   "execution_count": null,
   "metadata": {},
   "outputs": [],
   "source": [
    "#Get relevant data\n",
    "def get_reldata(df):\n",
    "    dfs = []\n",
    "    for c in df:\n",
    "        dfs.append(data_dict[c])\n",
    "    return dfs"
   ]
  },
  {
   "cell_type": "code",
   "execution_count": null,
   "metadata": {},
   "outputs": [],
   "source": [
    "#Selected risk factors for hospital utilization\n",
    "dfs = get_reldata(info_join['_id'][:8])"
   ]
  },
  {
   "cell_type": "code",
   "execution_count": null,
   "metadata": {},
   "outputs": [],
   "source": [
    "df_j = innerjoin_df(dfs, ['_id', 'Year'])\n",
    "df_j.shape"
   ]
  },
  {
   "cell_type": "code",
   "execution_count": null,
   "metadata": {},
   "outputs": [],
   "source": [
    "df_j.head()"
   ]
  },
  {
   "cell_type": "markdown",
   "metadata": {},
   "source": [
    "## Reorder columns"
   ]
  },
  {
   "cell_type": "code",
   "execution_count": null,
   "metadata": {},
   "outputs": [],
   "source": [
    "#Get a list of columns\n",
    "cols = list(df_j)"
   ]
  },
  {
   "cell_type": "code",
   "execution_count": null,
   "metadata": {},
   "outputs": [],
   "source": [
    "#Move '_id' column to head of list using dex, pop and insert\n",
    "cols.insert(0, cols.pop(cols.index('_id')))\n",
    "\n",
    "#Move 'Year' column to back of list using index, pop and insert\n",
    "cols.insert(len(df_j.columns)-1, cols.pop(cols.index('Year')))"
   ]
  },
  {
   "cell_type": "code",
   "execution_count": null,
   "metadata": {
    "scrolled": true
   },
   "outputs": [],
   "source": [
    "#Reorder dataframe\n",
    "df_j = df_j.loc[:, cols]\n",
    "df_j.head()"
   ]
  },
  {
   "cell_type": "markdown",
   "metadata": {},
   "source": [
    "## Remap years to number categories"
   ]
  },
  {
   "cell_type": "code",
   "execution_count": null,
   "metadata": {},
   "outputs": [],
   "source": [
    "di = {\"1999-2000\": 0, \"2001-2002\": 1, \"2003-2004\": 2, \"2005-2006\": 3, \"2007-2008\": 4, \n",
    "      \"2009-2010\": 5, \"2011-2012\": 6, \"2013-2014\": 7, \"2015-2016\": 8}"
   ]
  },
  {
   "cell_type": "code",
   "execution_count": null,
   "metadata": {},
   "outputs": [],
   "source": [
    "#Map categorical years to numerical\n",
    "df_j['Year'] = df_j['Year'].map(di)"
   ]
  },
  {
   "cell_type": "code",
   "execution_count": null,
   "metadata": {},
   "outputs": [],
   "source": [
    "df_j.head()"
   ]
  },
  {
   "cell_type": "code",
   "execution_count": null,
   "metadata": {},
   "outputs": [],
   "source": [
    "#Check if any NaN\n",
    "df_j.isnull().values.any()"
   ]
  },
  {
   "cell_type": "markdown",
   "metadata": {},
   "source": [
    "## Recategorize HUQ050 - Hospital Utilization to Binary"
   ]
  },
  {
   "cell_type": "markdown",
   "metadata": {},
   "source": [
    "Hospital utilization is too difficult to predict with 5 categoires.  \n",
    "Remapped number of times received healthcare over past year:\n",
    "1. 0 - One and greater\n",
    "2. 1 - None"
   ]
  },
  {
   "cell_type": "code",
   "execution_count": null,
   "metadata": {},
   "outputs": [],
   "source": [
    "#Recategorize function\n",
    "def recategorize(df, name, replace_dict):\n",
    "    df[name].replace(\n",
    "    to_replace=replace_dict,\n",
    "    inplace=True\n",
    ")"
   ]
  },
  {
   "cell_type": "code",
   "execution_count": null,
   "metadata": {},
   "outputs": [],
   "source": [
    "recategorize(df_j, 'HUQ050', {2:1, 3:1, 4:1, 5:1})"
   ]
  },
  {
   "cell_type": "markdown",
   "metadata": {},
   "source": [
    "#### Switch the variables 0 and 1: 0 "
   ]
  },
  {
   "cell_type": "code",
   "execution_count": null,
   "metadata": {},
   "outputs": [],
   "source": [
    "recategorize(df_j, 'HUQ050', {0:1, 1:0})"
   ]
  },
  {
   "cell_type": "markdown",
   "metadata": {},
   "source": [
    "## Categorize features that need to be One Hot Encoded"
   ]
  },
  {
   "cell_type": "code",
   "execution_count": null,
   "metadata": {
    "scrolled": true
   },
   "outputs": [],
   "source": [
    "df_j.info()"
   ]
  },
  {
   "cell_type": "code",
   "execution_count": null,
   "metadata": {},
   "outputs": [],
   "source": [
    "#Change columns to category\n",
    "#Columns to remove: \n",
    "#DRX18YR - 18 Year weight\n",
    "#MEC18YR - 18 year Weight\n",
    "#Year\n",
    "#_id\n",
    "\n",
    "cat_cols = ['DMDBORN4',\n",
    "            'DMDCITZN',\n",
    "            'RIAGENDR',\n",
    "            'RIDRETH1',\n",
    "            'ALQ101',\n",
    "            'DIQ010',\n",
    "            'BPQ020',\n",
    "            'BPXPULS',\n",
    "            'PAQ635',\n",
    "            'PAQ650',\n",
    "            'PAQ665',\n",
    "            'SMAQUEX',\n",
    "            'SMQ680',\n",
    "            'SMD410',\n",
    "            'MCQ010',\n",
    "            'MCQ160C',\n",
    "            'HID010',\n",
    "            'HUQ020',\n",
    "            'HUQ030',\n",
    "            'HUQ070',\n",
    "            'WHQ030',\n",
    "            'WHQ040']\n",
    "\n",
    "def recat_cols(df, col_names):\n",
    "    for x in col_names:\n",
    "        if x in cat_cols:\n",
    "            df[x] = df[x].astype('category')\n",
    "    return df\n",
    "\n",
    "col_names = df_j.columns\n",
    "df_ohe = recat_cols(df_j, col_names)"
   ]
  },
  {
   "cell_type": "code",
   "execution_count": null,
   "metadata": {},
   "outputs": [],
   "source": [
    "df_j.info()"
   ]
  },
  {
   "cell_type": "code",
   "execution_count": null,
   "metadata": {},
   "outputs": [],
   "source": [
    "df_ohe.info()"
   ]
  },
  {
   "cell_type": "markdown",
   "metadata": {},
   "source": [
    "## One Hot Encoding Cateogires"
   ]
  },
  {
   "cell_type": "code",
   "execution_count": null,
   "metadata": {},
   "outputs": [],
   "source": [
    "#Function to One Hot Encode Categories\n",
    "def ohe(df_j, label=None):\n",
    "    #Make copy of df\n",
    "    df_t = df_j.copy()\n",
    "    #Select datatypes that are categories\n",
    "    X_cat = df_t.select_dtypes(include=['category'])\n",
    "    if(label != None):\n",
    "        #Drop label and year\n",
    "        X_cat = X_cat.drop([label], axis=1)\n",
    "    #Copy df with categories that dropped label and year\n",
    "    X_enc = X_cat.copy()\n",
    "    #Create dummies from categories\n",
    "    X_enc_d = pd.get_dummies(X_enc, drop_first=True)\n",
    "    #Drop original non-OHE columns from original df\n",
    "    df = df_j.drop(list(X_enc), axis=1)\n",
    "    df = pd.concat([df,X_enc_d], axis=1)\n",
    "    if(label != None):\n",
    "        df[label] = df[label].astype(np.uint8)\n",
    "    df['Year'] = df['Year'].astype(np.uint8)\n",
    "    return df"
   ]
  },
  {
   "cell_type": "code",
   "execution_count": null,
   "metadata": {
    "scrolled": true
   },
   "outputs": [],
   "source": [
    "df_ohe = ohe(df_ohe)\n",
    "df_no_ohe = df_j.copy()"
   ]
  },
  {
   "cell_type": "code",
   "execution_count": null,
   "metadata": {
    "scrolled": true
   },
   "outputs": [],
   "source": [
    "df_ohe[:1].shape"
   ]
  },
  {
   "cell_type": "code",
   "execution_count": null,
   "metadata": {},
   "outputs": [],
   "source": [
    "df_ohe.shape"
   ]
  },
  {
   "cell_type": "code",
   "execution_count": null,
   "metadata": {
    "scrolled": true
   },
   "outputs": [],
   "source": [
    "df_ohe.head()"
   ]
  },
  {
   "cell_type": "code",
   "execution_count": null,
   "metadata": {},
   "outputs": [],
   "source": [
    "df_ohe[df_ohe['RIDAGEYR']==2]"
   ]
  },
  {
   "cell_type": "markdown",
   "metadata": {},
   "source": [
    "# Bin Important Risk Factors Numeric Data into Category Bins"
   ]
  },
  {
   "cell_type": "markdown",
   "metadata": {},
   "source": [
    "### Age"
   ]
  },
  {
   "cell_type": "code",
   "execution_count": null,
   "metadata": {
    "scrolled": false
   },
   "outputs": [],
   "source": [
    "df_ohe['RIDAGEYR'].describe()"
   ]
  },
  {
   "cell_type": "code",
   "execution_count": null,
   "metadata": {},
   "outputs": [],
   "source": [
    "bins = [0, 34, 48, 63, df_ohe['RIDAGEYR'].max()]\n",
    "names = ['20-34', '35-48', '49-63', '64-85']\n",
    "df_ohe['RIDAGEYR'] = pd.cut(df_ohe['RIDAGEYR'], bins, labels = names)"
   ]
  },
  {
   "cell_type": "markdown",
   "metadata": {},
   "source": [
    "### Height"
   ]
  },
  {
   "cell_type": "code",
   "execution_count": null,
   "metadata": {
    "scrolled": false
   },
   "outputs": [],
   "source": [
    "df_ohe['BMXHT'].describe()"
   ]
  },
  {
   "cell_type": "code",
   "execution_count": null,
   "metadata": {},
   "outputs": [],
   "source": [
    "bins = [0, 160, 167, 172, 190, df_ohe['BMXHT'].max()]\n",
    "names = ['<5\\'3', '5\\'3 to 5\\'5.75', '5\\'5.75 to 5\\'9', '5\\'9 to 6\\'3', '6\\'3 and up']\n",
    "df_ohe['BMXHT'] = pd.cut(df_ohe['BMXHT'], bins, labels = names)"
   ]
  },
  {
   "cell_type": "markdown",
   "metadata": {},
   "source": [
    "# To CSV for R"
   ]
  },
  {
   "cell_type": "code",
   "execution_count": null,
   "metadata": {},
   "outputs": [],
   "source": [
    "df_ohe.to_csv('./Prevalence/Q1/Q1.csv')"
   ]
  }
 ],
 "metadata": {
  "kernelspec": {
   "display_name": "Python 3",
   "language": "python",
   "name": "python3"
  },
  "language_info": {
   "codemirror_mode": {
    "name": "ipython",
    "version": 3
   },
   "file_extension": ".py",
   "mimetype": "text/x-python",
   "name": "python",
   "nbconvert_exporter": "python",
   "pygments_lexer": "ipython3",
   "version": "3.6.8"
  }
 },
 "nbformat": 4,
 "nbformat_minor": 2
}
